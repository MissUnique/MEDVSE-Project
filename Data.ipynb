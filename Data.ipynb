{
  "cells": [
    {
      "cell_type": "markdown",
      "metadata": {
        "id": "view-in-github",
        "colab_type": "text"
      },
      "source": [
        "<a href=\"https://colab.research.google.com/github/MissUnique/MEDVSE-Project/blob/main/Data.ipynb\" target=\"_parent\"><img src=\"https://colab.research.google.com/assets/colab-badge.svg\" alt=\"Open In Colab\"/></a>"
      ]
    },
    {
      "metadata": {
        "id": "721c2bd42786ef71"
      },
      "cell_type": "markdown",
      "source": [
        "# Importing libraries"
      ],
      "id": "721c2bd42786ef71"
    },
    {
      "metadata": {
        "ExecuteTime": {
          "end_time": "2024-11-06T22:51:28.951090Z",
          "start_time": "2024-11-06T22:51:28.946960Z"
        },
        "id": "667b6d05590784d1"
      },
      "cell_type": "code",
      "source": [
        "from cProfile import label\n",
        "\n",
        "import numpy as np\n",
        "import pandas as pd\n",
        "import matplotlib.pyplot as plt"
      ],
      "id": "667b6d05590784d1",
      "outputs": [],
      "execution_count": 9
    },
    {
      "metadata": {
        "id": "f2898df77fd27c53"
      },
      "cell_type": "markdown",
      "source": [
        "# Data Overview\n",
        "\n",
        "\n",
        "The MTHS dataset was collected to provide PPG signals using a smartphone camera, as few such datasets exist. Key details:\n",
        "\n",
        "- **Device used**: iPhone 5s (30 fps), with flashlight on.\n",
        "\n",
        "- **Participants**: 62 total (35 men, 27 women).\n",
        "\n",
        "- **Sampling**:\n",
        "    - PPG signal: 30 Hz.\n",
        "    - Ground truth (Heart Rate & SpO₂): 1 Hz, measured using a pulse oximeter (M70).\n",
        "    \n",
        "- **Procedure**: Patients fully covered the camera and flashlight with their fingertips."
      ],
      "id": "f2898df77fd27c53"
    },
    {
      "metadata": {
        "id": "13c3df7818f46849"
      },
      "cell_type": "markdown",
      "source": [
        "# Data Pre-Processing\n",
        "\n",
        "Data pre-processing is a crucial step that enhances data quality and reliability, providing valuable insights into its structure, patterns, and any inconsistencies. This stage helps identify and handle missing or noisy data, normalize values, and prepare the dataset for analysis or modeling. Effective pre-processing enables us to make informed decisions about further steps, ensuring that the dataset is accurate, consistent, and ready for optimal performance in subsequent analysis or machine learning tasks.\n",
        "\n",
        "**in this section :**\n",
        "\n",
        "1- Create a Metadata DataFrame\n",
        "\n",
        "2- Visualize Sample Data\n"
      ],
      "id": "13c3df7818f46849"
    },
    {
      "cell_type": "code",
      "id": "initial_id",
      "metadata": {
        "collapsed": true,
        "ExecuteTime": {
          "end_time": "2024-11-06T22:48:12.283386Z",
          "start_time": "2024-11-06T22:48:12.249214Z"
        },
        "id": "initial_id"
      },
      "source": [
        "# Create Dictionary\n",
        "# Number of labels refers to the number of samples extracted from each signal.\n",
        "Dic = {\"patient_ID\" : [],\"Gender\" : [],\"number_of_labels\" : []}\n",
        "root_path = \"/content/MEDVSE\"\n",
        "patients_metadata = pd.read_excel(\"MEDVSE/MTHS/gender.xlsx\")\n",
        "time_length = 10\n",
        "\n",
        "for i in range(67):\n",
        "    try:\n",
        "        signals = np.load(f\"{root_path}/MTHS/Data/signal_{i}.npy\")\n",
        "        labels = np.load(f\"{root_path}/MTHS/Data/label_{i}.npy\")\n",
        "\n",
        "        Dic[\"patient_ID\"].append(i)\n",
        "        Dic[\"Gender\"].append(patients_metadata[patients_metadata[\"id\"] == i][\"gender\"].values[0])\n",
        "        Dic[\"number_of_labels\"].append(labels.shape[0]/time_length)\n",
        "    except:\n",
        "        continue\n",
        "\n",
        "# Meta Data\n",
        "data = pd.DataFrame.from_dict(Dic)"
      ],
      "outputs": [],
      "execution_count": 10
    },
    {
      "metadata": {
        "ExecuteTime": {
          "end_time": "2024-11-06T22:48:13.034945Z",
          "start_time": "2024-11-06T22:48:13.028206Z"
        },
        "id": "4fd86989bd2d9854",
        "outputId": "47390e90-490e-4b95-f6b0-58216a5abe85",
        "colab": {
          "base_uri": "https://localhost:8080/",
          "height": 206
        }
      },
      "cell_type": "code",
      "source": [
        "data.head(5)"
      ],
      "id": "4fd86989bd2d9854",
      "outputs": [
        {
          "output_type": "execute_result",
          "data": {
            "text/plain": [
              "   patient_ID Gender  number_of_labels\n",
              "0           2      M               2.6\n",
              "1           3      F               5.9\n",
              "2           4      M               7.9\n",
              "3           5      F               6.0\n",
              "4           6      M               6.4"
            ],
            "text/html": [
              "\n",
              "  <div id=\"df-4ce5b071-4b81-40a8-a0bf-5bab18150ed4\" class=\"colab-df-container\">\n",
              "    <div>\n",
              "<style scoped>\n",
              "    .dataframe tbody tr th:only-of-type {\n",
              "        vertical-align: middle;\n",
              "    }\n",
              "\n",
              "    .dataframe tbody tr th {\n",
              "        vertical-align: top;\n",
              "    }\n",
              "\n",
              "    .dataframe thead th {\n",
              "        text-align: right;\n",
              "    }\n",
              "</style>\n",
              "<table border=\"1\" class=\"dataframe\">\n",
              "  <thead>\n",
              "    <tr style=\"text-align: right;\">\n",
              "      <th></th>\n",
              "      <th>patient_ID</th>\n",
              "      <th>Gender</th>\n",
              "      <th>number_of_labels</th>\n",
              "    </tr>\n",
              "  </thead>\n",
              "  <tbody>\n",
              "    <tr>\n",
              "      <th>0</th>\n",
              "      <td>2</td>\n",
              "      <td>M</td>\n",
              "      <td>2.6</td>\n",
              "    </tr>\n",
              "    <tr>\n",
              "      <th>1</th>\n",
              "      <td>3</td>\n",
              "      <td>F</td>\n",
              "      <td>5.9</td>\n",
              "    </tr>\n",
              "    <tr>\n",
              "      <th>2</th>\n",
              "      <td>4</td>\n",
              "      <td>M</td>\n",
              "      <td>7.9</td>\n",
              "    </tr>\n",
              "    <tr>\n",
              "      <th>3</th>\n",
              "      <td>5</td>\n",
              "      <td>F</td>\n",
              "      <td>6.0</td>\n",
              "    </tr>\n",
              "    <tr>\n",
              "      <th>4</th>\n",
              "      <td>6</td>\n",
              "      <td>M</td>\n",
              "      <td>6.4</td>\n",
              "    </tr>\n",
              "  </tbody>\n",
              "</table>\n",
              "</div>\n",
              "    <div class=\"colab-df-buttons\">\n",
              "\n",
              "  <div class=\"colab-df-container\">\n",
              "    <button class=\"colab-df-convert\" onclick=\"convertToInteractive('df-4ce5b071-4b81-40a8-a0bf-5bab18150ed4')\"\n",
              "            title=\"Convert this dataframe to an interactive table.\"\n",
              "            style=\"display:none;\">\n",
              "\n",
              "  <svg xmlns=\"http://www.w3.org/2000/svg\" height=\"24px\" viewBox=\"0 -960 960 960\">\n",
              "    <path d=\"M120-120v-720h720v720H120Zm60-500h600v-160H180v160Zm220 220h160v-160H400v160Zm0 220h160v-160H400v160ZM180-400h160v-160H180v160Zm440 0h160v-160H620v160ZM180-180h160v-160H180v160Zm440 0h160v-160H620v160Z\"/>\n",
              "  </svg>\n",
              "    </button>\n",
              "\n",
              "  <style>\n",
              "    .colab-df-container {\n",
              "      display:flex;\n",
              "      gap: 12px;\n",
              "    }\n",
              "\n",
              "    .colab-df-convert {\n",
              "      background-color: #E8F0FE;\n",
              "      border: none;\n",
              "      border-radius: 50%;\n",
              "      cursor: pointer;\n",
              "      display: none;\n",
              "      fill: #1967D2;\n",
              "      height: 32px;\n",
              "      padding: 0 0 0 0;\n",
              "      width: 32px;\n",
              "    }\n",
              "\n",
              "    .colab-df-convert:hover {\n",
              "      background-color: #E2EBFA;\n",
              "      box-shadow: 0px 1px 2px rgba(60, 64, 67, 0.3), 0px 1px 3px 1px rgba(60, 64, 67, 0.15);\n",
              "      fill: #174EA6;\n",
              "    }\n",
              "\n",
              "    .colab-df-buttons div {\n",
              "      margin-bottom: 4px;\n",
              "    }\n",
              "\n",
              "    [theme=dark] .colab-df-convert {\n",
              "      background-color: #3B4455;\n",
              "      fill: #D2E3FC;\n",
              "    }\n",
              "\n",
              "    [theme=dark] .colab-df-convert:hover {\n",
              "      background-color: #434B5C;\n",
              "      box-shadow: 0px 1px 3px 1px rgba(0, 0, 0, 0.15);\n",
              "      filter: drop-shadow(0px 1px 2px rgba(0, 0, 0, 0.3));\n",
              "      fill: #FFFFFF;\n",
              "    }\n",
              "  </style>\n",
              "\n",
              "    <script>\n",
              "      const buttonEl =\n",
              "        document.querySelector('#df-4ce5b071-4b81-40a8-a0bf-5bab18150ed4 button.colab-df-convert');\n",
              "      buttonEl.style.display =\n",
              "        google.colab.kernel.accessAllowed ? 'block' : 'none';\n",
              "\n",
              "      async function convertToInteractive(key) {\n",
              "        const element = document.querySelector('#df-4ce5b071-4b81-40a8-a0bf-5bab18150ed4');\n",
              "        const dataTable =\n",
              "          await google.colab.kernel.invokeFunction('convertToInteractive',\n",
              "                                                    [key], {});\n",
              "        if (!dataTable) return;\n",
              "\n",
              "        const docLinkHtml = 'Like what you see? Visit the ' +\n",
              "          '<a target=\"_blank\" href=https://colab.research.google.com/notebooks/data_table.ipynb>data table notebook</a>'\n",
              "          + ' to learn more about interactive tables.';\n",
              "        element.innerHTML = '';\n",
              "        dataTable['output_type'] = 'display_data';\n",
              "        await google.colab.output.renderOutput(dataTable, element);\n",
              "        const docLink = document.createElement('div');\n",
              "        docLink.innerHTML = docLinkHtml;\n",
              "        element.appendChild(docLink);\n",
              "      }\n",
              "    </script>\n",
              "  </div>\n",
              "\n",
              "\n",
              "<div id=\"df-046f33e5-7898-4f74-86ee-9d63fa7d3bcc\">\n",
              "  <button class=\"colab-df-quickchart\" onclick=\"quickchart('df-046f33e5-7898-4f74-86ee-9d63fa7d3bcc')\"\n",
              "            title=\"Suggest charts\"\n",
              "            style=\"display:none;\">\n",
              "\n",
              "<svg xmlns=\"http://www.w3.org/2000/svg\" height=\"24px\"viewBox=\"0 0 24 24\"\n",
              "     width=\"24px\">\n",
              "    <g>\n",
              "        <path d=\"M19 3H5c-1.1 0-2 .9-2 2v14c0 1.1.9 2 2 2h14c1.1 0 2-.9 2-2V5c0-1.1-.9-2-2-2zM9 17H7v-7h2v7zm4 0h-2V7h2v10zm4 0h-2v-4h2v4z\"/>\n",
              "    </g>\n",
              "</svg>\n",
              "  </button>\n",
              "\n",
              "<style>\n",
              "  .colab-df-quickchart {\n",
              "      --bg-color: #E8F0FE;\n",
              "      --fill-color: #1967D2;\n",
              "      --hover-bg-color: #E2EBFA;\n",
              "      --hover-fill-color: #174EA6;\n",
              "      --disabled-fill-color: #AAA;\n",
              "      --disabled-bg-color: #DDD;\n",
              "  }\n",
              "\n",
              "  [theme=dark] .colab-df-quickchart {\n",
              "      --bg-color: #3B4455;\n",
              "      --fill-color: #D2E3FC;\n",
              "      --hover-bg-color: #434B5C;\n",
              "      --hover-fill-color: #FFFFFF;\n",
              "      --disabled-bg-color: #3B4455;\n",
              "      --disabled-fill-color: #666;\n",
              "  }\n",
              "\n",
              "  .colab-df-quickchart {\n",
              "    background-color: var(--bg-color);\n",
              "    border: none;\n",
              "    border-radius: 50%;\n",
              "    cursor: pointer;\n",
              "    display: none;\n",
              "    fill: var(--fill-color);\n",
              "    height: 32px;\n",
              "    padding: 0;\n",
              "    width: 32px;\n",
              "  }\n",
              "\n",
              "  .colab-df-quickchart:hover {\n",
              "    background-color: var(--hover-bg-color);\n",
              "    box-shadow: 0 1px 2px rgba(60, 64, 67, 0.3), 0 1px 3px 1px rgba(60, 64, 67, 0.15);\n",
              "    fill: var(--button-hover-fill-color);\n",
              "  }\n",
              "\n",
              "  .colab-df-quickchart-complete:disabled,\n",
              "  .colab-df-quickchart-complete:disabled:hover {\n",
              "    background-color: var(--disabled-bg-color);\n",
              "    fill: var(--disabled-fill-color);\n",
              "    box-shadow: none;\n",
              "  }\n",
              "\n",
              "  .colab-df-spinner {\n",
              "    border: 2px solid var(--fill-color);\n",
              "    border-color: transparent;\n",
              "    border-bottom-color: var(--fill-color);\n",
              "    animation:\n",
              "      spin 1s steps(1) infinite;\n",
              "  }\n",
              "\n",
              "  @keyframes spin {\n",
              "    0% {\n",
              "      border-color: transparent;\n",
              "      border-bottom-color: var(--fill-color);\n",
              "      border-left-color: var(--fill-color);\n",
              "    }\n",
              "    20% {\n",
              "      border-color: transparent;\n",
              "      border-left-color: var(--fill-color);\n",
              "      border-top-color: var(--fill-color);\n",
              "    }\n",
              "    30% {\n",
              "      border-color: transparent;\n",
              "      border-left-color: var(--fill-color);\n",
              "      border-top-color: var(--fill-color);\n",
              "      border-right-color: var(--fill-color);\n",
              "    }\n",
              "    40% {\n",
              "      border-color: transparent;\n",
              "      border-right-color: var(--fill-color);\n",
              "      border-top-color: var(--fill-color);\n",
              "    }\n",
              "    60% {\n",
              "      border-color: transparent;\n",
              "      border-right-color: var(--fill-color);\n",
              "    }\n",
              "    80% {\n",
              "      border-color: transparent;\n",
              "      border-right-color: var(--fill-color);\n",
              "      border-bottom-color: var(--fill-color);\n",
              "    }\n",
              "    90% {\n",
              "      border-color: transparent;\n",
              "      border-bottom-color: var(--fill-color);\n",
              "    }\n",
              "  }\n",
              "</style>\n",
              "\n",
              "  <script>\n",
              "    async function quickchart(key) {\n",
              "      const quickchartButtonEl =\n",
              "        document.querySelector('#' + key + ' button');\n",
              "      quickchartButtonEl.disabled = true;  // To prevent multiple clicks.\n",
              "      quickchartButtonEl.classList.add('colab-df-spinner');\n",
              "      try {\n",
              "        const charts = await google.colab.kernel.invokeFunction(\n",
              "            'suggestCharts', [key], {});\n",
              "      } catch (error) {\n",
              "        console.error('Error during call to suggestCharts:', error);\n",
              "      }\n",
              "      quickchartButtonEl.classList.remove('colab-df-spinner');\n",
              "      quickchartButtonEl.classList.add('colab-df-quickchart-complete');\n",
              "    }\n",
              "    (() => {\n",
              "      let quickchartButtonEl =\n",
              "        document.querySelector('#df-046f33e5-7898-4f74-86ee-9d63fa7d3bcc button');\n",
              "      quickchartButtonEl.style.display =\n",
              "        google.colab.kernel.accessAllowed ? 'block' : 'none';\n",
              "    })();\n",
              "  </script>\n",
              "</div>\n",
              "\n",
              "    </div>\n",
              "  </div>\n"
            ],
            "application/vnd.google.colaboratory.intrinsic+json": {
              "type": "dataframe",
              "variable_name": "data",
              "summary": "{\n  \"name\": \"data\",\n  \"rows\": 62,\n  \"fields\": [\n    {\n      \"column\": \"patient_ID\",\n      \"properties\": {\n        \"dtype\": \"number\",\n        \"std\": 18,\n        \"min\": 2,\n        \"max\": 66,\n        \"num_unique_values\": 62,\n        \"samples\": [\n          55,\n          61,\n          2\n        ],\n        \"semantic_type\": \"\",\n        \"description\": \"\"\n      }\n    },\n    {\n      \"column\": \"Gender\",\n      \"properties\": {\n        \"dtype\": \"category\",\n        \"num_unique_values\": 2,\n        \"samples\": [\n          \"F\",\n          \"M\"\n        ],\n        \"semantic_type\": \"\",\n        \"description\": \"\"\n      }\n    },\n    {\n      \"column\": \"number_of_labels\",\n      \"properties\": {\n        \"dtype\": \"number\",\n        \"std\": 2.6615924864116383,\n        \"min\": 2.6,\n        \"max\": 13.4,\n        \"num_unique_values\": 14,\n        \"samples\": [\n          11.9,\n          12.2\n        ],\n        \"semantic_type\": \"\",\n        \"description\": \"\"\n      }\n    }\n  ]\n}"
            }
          },
          "metadata": {},
          "execution_count": 11
        }
      ],
      "execution_count": 11
    },
    {
      "metadata": {
        "id": "1b7fb5fe03e59fdf"
      },
      "cell_type": "markdown",
      "source": [
        "## Visualization"
      ],
      "id": "1b7fb5fe03e59fdf"
    },
    {
      "metadata": {
        "ExecuteTime": {
          "end_time": "2024-11-06T23:49:50.010360Z",
          "start_time": "2024-11-06T23:49:50.005370Z"
        },
        "id": "25632ff59dba4ec9"
      },
      "cell_type": "code",
      "source": [
        "def visualize(i):\n",
        "    assert 2 <= i <= 66, \"out of bounds\"\n",
        "    signals = np.load(f\"{root_path}/MTHS/Data/signal_{i}.npy\")\n",
        "    plt.plot(list(range(signals.shape[0])),signals[:,0])"
      ],
      "id": "25632ff59dba4ec9",
      "outputs": [],
      "execution_count": 12
    },
    {
      "metadata": {
        "ExecuteTime": {
          "end_time": "2024-11-06T23:50:16.116713Z",
          "start_time": "2024-11-06T23:50:16.030300Z"
        },
        "id": "2003285645130b6e",
        "outputId": "865728bf-e1e9-419e-f86c-1050721c648b",
        "colab": {
          "base_uri": "https://localhost:8080/",
          "height": 430
        }
      },
      "cell_type": "code",
      "source": [
        "visualize(8)"
      ],
      "id": "2003285645130b6e",
      "outputs": [
        {
          "output_type": "display_data",
          "data": {
            "text/plain": [
              "<Figure size 640x480 with 1 Axes>"
            ],
            "image/png": "[encoded data removed]"
          },
          "metadata": {}
        }
      ],
      "execution_count": 13
    },
    {
      "metadata": {
        "id": "761ff587edd69f5e"
      },
      "cell_type": "markdown",
      "source": [
        "From different experiments, it has been found that normalizing the values is essential. Larger values can disproportionately affect the models’ performance, as it may interpret them as more important. Therefore, normalizing the data ensures that all features contribute equally to the model"
      ],
      "id": "761ff587edd69f5e"
    },
    {
      "metadata": {
        "ExecuteTime": {
          "end_time": "2024-11-06T22:23:42.514469Z",
          "start_time": "2024-11-06T22:23:42.369594Z"
        },
        "id": "9e0b3997213f630a",
        "outputId": "e607b9ae-243c-445f-8da1-1261bffa7ac0",
        "colab": {
          "base_uri": "https://localhost:8080/",
          "height": 464
        }
      },
      "cell_type": "code",
      "source": [
        "data[\"Gender\"].value_counts().plot.bar()"
      ],
      "id": "9e0b3997213f630a",
      "outputs": [
        {
          "output_type": "execute_result",
          "data": {
            "text/plain": [
              "<Axes: xlabel='Gender'>"
            ]
          },
          "metadata": {},
          "execution_count": 14
        },
        {
          "output_type": "display_data",
          "data": {
            "text/plain": [
              "<Figure size 640x480 with 1 Axes>"
            ],
            "image/png": "[encoded data removed]"
          },
          "metadata": {}
        }
      ],
      "execution_count": 14
    },
    {
      "metadata": {
        "id": "5f258e9272a46ab7"
      },
      "cell_type": "markdown",
      "source": [
        "From the plot, we can see that the gap between females and males is not very large. Since it is important to split the data such that the distribution of patients is consistent across the sets, this should be taken into account."
      ],
      "id": "5f258e9272a46ab7"
    },
    {
      "metadata": {
        "id": "dba6c015e1927e3e"
      },
      "cell_type": "markdown",
      "source": [
        "# Important Takeaways from the Paper\n",
        "\n",
        "There are several important points to note from the paper:\n",
        "\n",
        "**Missing Technical Details:** Many technical details are missing in the paper, which led me to consult the code to check the values. However, this was the extent of the information available.\n",
        "\n",
        "**Methodologies:**\n",
        "- **Gender distribution:** The author did not ensure that gender was evenly distributed across the three sets. The distribution of gender can significantly impact the model's performance and generalizability.\n",
        "\n",
        "- **Data Splitting Methodology:** The author splits the data by combining all the values in the signal into one vector and then processes the data into sequences. Afterward, the data is split randomly. I believe this approach is flawed and may lead to data leakage.\n",
        "\n",
        "**Reason:**\n",
        "In medical applications, it is better to split the data by patient (depending on the case). In this scenario, each patient’s data should be assigned to either the training, validation, or testing set, with no overlap between them. This is critical because if the same patient’s data appears in multiple sets, it could result in unintended patterns or rhythms being shared across the training, validation, and testing sets, leading to data leakage and inflated results.\n",
        "\n",
        "As part of my work, I believe it is essential to investigate the methodologies presented in papers and validate their correctness before basing my work on potentially flawed studies. While the task at hand is to replicate the paper and obtain similar results, I will proceed with the data splitting method I believe is more appropriate. However, I will retain the models created by the authors without any adjustments.\n",
        "\n"
      ],
      "id": "dba6c015e1927e3e"
    },
    {
      "metadata": {
        "id": "4c917f74a827408"
      },
      "cell_type": "markdown",
      "source": [
        "## Data Splitting"
      ],
      "id": "4c917f74a827408"
    },
    {
      "metadata": {
        "id": "e52d04722358bbc9"
      },
      "cell_type": "markdown",
      "source": [
        "In this section,\n",
        "- I will split the data such that each patient's data is assigned to only one section (either training, validation, or testing).\n",
        "\n",
        "- I will use a standard practice for data distribution (70% training, 15% validation, and 15% testing) as the proposed 80%, 4%, and 16% distribution in the paper provides insufficient validation data for this small dataset. That way, the model's performance is not assessed properly.\n",
        "\n",
        "- I will ensure that gender is equally distributed across the three sets."
      ],
      "id": "e52d04722358bbc9"
    },
    {
      "metadata": {
        "ExecuteTime": {
          "end_time": "2024-11-07T00:16:07.177917Z",
          "start_time": "2024-11-07T00:16:07.164852Z"
        },
        "id": "1130febac74d74af",
        "outputId": "26848c37-fce2-4ef9-92e3-bb58751edfc4",
        "colab": {
          "base_uri": "https://localhost:8080/"
        }
      },
      "cell_type": "code",
      "source": [
        "total_labels = data['number_of_labels'].sum()\n",
        "\n",
        "train_size = int(total_labels * 0.7)\n",
        "val_size = int(total_labels * 0.15)\n",
        "test_size = total_labels - train_size - val_size\n",
        "\n",
        "# Shuffle the data randomly (to ensure randomness in patient assignment)\n",
        "data_shuffled = data.sample(frac=1, random_state=42).reset_index(drop=True)\n",
        "\n",
        "# Assign patients to the sets based on cumulative labels\n",
        "train_data = []\n",
        "val_data = []\n",
        "test_data = []\n",
        "\n",
        "cumulative_labels = 0\n",
        "\n",
        "# assign to training set first\n",
        "for index, row in data_shuffled.iterrows():\n",
        "    cumulative_labels += row['number_of_labels']\n",
        "    if cumulative_labels <= train_size:\n",
        "        train_data.append(row)\n",
        "    elif cumulative_labels <= train_size + val_size:\n",
        "        val_data.append(row)\n",
        "    else:\n",
        "        test_data.append(row)\n",
        "\n",
        "# Convert back to DataFrames\n",
        "train_data = pd.DataFrame(train_data)\n",
        "val_data = pd.DataFrame(val_data)\n",
        "test_data = pd.DataFrame(test_data)\n",
        "\n",
        "# Print the results to verify\n",
        "print(\"Training Data:\")\n",
        "print(train_data)\n",
        "print(\"\\nValidation Data:\")\n",
        "print(val_data)\n",
        "print(\"\\nTest Data:\")\n",
        "print(test_data)\n",
        "\n",
        "# Optionally, save the splits to CSV\n",
        "train_data.to_csv('train_data.csv', index=False)\n",
        "val_data.to_csv('val_data.csv', index=False)\n",
        "test_data.to_csv('test_data.csv', index=False)\n"
      ],
      "id": "1130febac74d74af",
      "outputs": [
        {
          "output_type": "stream",
          "name": "stdout",
          "text": [
            "Training Data:\n",
            "    patient_ID Gender  number_of_labels\n",
            "0           55      M               6.0\n",
            "1           61      F               6.2\n",
            "2            2      M               2.6\n",
            "3           62      F               6.0\n",
            "4            7      M               6.1\n",
            "5           53      F               6.0\n",
            "6           21      M              11.9\n",
            "7           14      M              11.9\n",
            "8           30      M              11.9\n",
            "9           64      F               6.2\n",
            "10          35      M               6.0\n",
            "11          11      F               5.9\n",
            "12          52      F               6.0\n",
            "13          15      M               6.1\n",
            "14          38      F               6.0\n",
            "15          39      F               6.0\n",
            "16           5      F               6.0\n",
            "17          22      M              12.2\n",
            "18          59      F               6.0\n",
            "19          10      M               6.0\n",
            "20           8      M               5.1\n",
            "21          36      M               6.0\n",
            "22           6      M               6.4\n",
            "23          50      F               6.0\n",
            "24          24      M              12.0\n",
            "25          57      F               6.0\n",
            "26          41      M               6.0\n",
            "27          58      F               6.1\n",
            "28          46      M               6.0\n",
            "29          63      M               5.9\n",
            "30          20      M              11.8\n",
            "31          45      F               6.4\n",
            "32          32      F               6.0\n",
            "33          31      M              11.8\n",
            "34          29      M              11.9\n",
            "35          49      F               6.2\n",
            "36          13      M              13.4\n",
            "37          37      F               6.0\n",
            "38          60      F               6.0\n",
            "39          48      M               6.1\n",
            "40          42      F               6.0\n",
            "41          34      F               6.0\n",
            "42          51      M               6.1\n",
            "43           3      F               5.9\n",
            "\n",
            "Validation Data:\n",
            "    patient_ID Gender  number_of_labels\n",
            "44          26      M              11.9\n",
            "45           4      M               7.9\n",
            "46          54      F               6.0\n",
            "47          44      M               6.1\n",
            "48          40      F               6.0\n",
            "49          28      M              11.9\n",
            "50          65      F               6.0\n",
            "51          12      M               8.9\n",
            "52          27      M              11.9\n",
            "\n",
            "Test Data:\n",
            "    patient_ID Gender  number_of_labels\n",
            "53          23      M              11.9\n",
            "54          66      M               6.0\n",
            "55          25      M              12.0\n",
            "56           9      M               6.0\n",
            "57          47      F               6.0\n",
            "58          19      M              11.9\n",
            "59          33      F               6.2\n",
            "60          56      F               6.0\n",
            "61          43      M               6.0\n"
          ]
        }
      ],
      "execution_count": 18
    },
    {
      "metadata": {
        "ExecuteTime": {
          "end_time": "2024-11-07T00:16:08.202312Z",
          "start_time": "2024-11-07T00:16:08.198513Z"
        },
        "id": "56fef6d21609311f",
        "outputId": "bef6ccf6-0c07-4ae1-8161-80fbd8dc067d",
        "colab": {
          "base_uri": "https://localhost:8080/"
        }
      },
      "cell_type": "code",
      "source": [
        "train_patients = set(train_data['patient_ID'])\n",
        "val_patients = set(val_data['patient_ID'])\n",
        "test_patients = set(test_data['patient_ID'])\n",
        "\n",
        "# To make sure that there is no overlap across the sets\n",
        "train_val_overlap = train_patients.intersection(val_patients)\n",
        "train_test_overlap = train_patients.intersection(test_patients)\n",
        "val_test_overlap = val_patients.intersection(test_patients)\n",
        "\n",
        "# Print the results of the overlap check\n",
        "print(\"Overlap Checks:\")\n",
        "print(f\"Overlap between training and validation sets: {train_val_overlap}\")\n",
        "print(f\"Overlap between training and test sets: {train_test_overlap}\")\n",
        "print(f\"Overlap between validation and test sets: {val_test_overlap}\")"
      ],
      "id": "56fef6d21609311f",
      "outputs": [
        {
          "output_type": "stream",
          "name": "stdout",
          "text": [
            "Overlap Checks:\n",
            "Overlap between training and validation sets: set()\n",
            "Overlap between training and test sets: set()\n",
            "Overlap between validation and test sets: set()\n"
          ]
        }
      ],
      "execution_count": 20
    },
    {
      "metadata": {
        "ExecuteTime": {
          "end_time": "2024-11-07T00:16:16.872073Z",
          "start_time": "2024-11-07T00:16:16.814746Z"
        },
        "id": "d540d4210ce0a53f",
        "outputId": "d3e577aa-eb9d-4396-ae26-451b3321778b",
        "colab": {
          "base_uri": "https://localhost:8080/",
          "height": 464
        }
      },
      "cell_type": "code",
      "source": [
        "train_data[\"Gender\"].value_counts().plot.bar()"
      ],
      "id": "d540d4210ce0a53f",
      "outputs": [
        {
          "output_type": "execute_result",
          "data": {
            "text/plain": [
              "<Axes: xlabel='Gender'>"
            ]
          },
          "metadata": {},
          "execution_count": 21
        },
        {
          "output_type": "display_data",
          "data": {
            "text/plain": [
              "<Figure size 640x480 with 1 Axes>"
            ],
            "image/png": "[encoded data removed]"
          },
          "metadata": {}
        }
      ],
      "execution_count": 21
    },
    {
      "metadata": {
        "ExecuteTime": {
          "end_time": "2024-11-07T00:16:17.260117Z",
          "start_time": "2024-11-07T00:16:17.196876Z"
        },
        "id": "e363d3fd588dc6cb",
        "outputId": "68506afa-bfce-4ec6-f045-42cb216e5267",
        "colab": {
          "base_uri": "https://localhost:8080/",
          "height": 464
        }
      },
      "cell_type": "code",
      "source": [
        "val_data[\"Gender\"].value_counts().plot.bar()"
      ],
      "id": "e363d3fd588dc6cb",
      "outputs": [
        {
          "output_type": "execute_result",
          "data": {
            "text/plain": [
              "<Axes: xlabel='Gender'>"
            ]
          },
          "metadata": {},
          "execution_count": 22
        },
        {
          "output_type": "display_data",
          "data": {
            "text/plain": [
              "<Figure size 640x480 with 1 Axes>"
            ],
            "image/png": "[encoded data removed]"
          },
          "metadata": {}
        }
      ],
      "execution_count": 22
    },
    {
      "metadata": {
        "ExecuteTime": {
          "end_time": "2024-11-07T00:16:17.664928Z",
          "start_time": "2024-11-07T00:16:17.607849Z"
        },
        "id": "387c454bde86efb4",
        "outputId": "399fc00a-e38b-42cf-d145-38f6b9b0b472",
        "colab": {
          "base_uri": "https://localhost:8080/",
          "height": 464
        }
      },
      "cell_type": "code",
      "source": [
        "test_data[\"Gender\"].value_counts().plot.bar()"
      ],
      "id": "387c454bde86efb4",
      "outputs": [
        {
          "output_type": "execute_result",
          "data": {
            "text/plain": [
              "<Axes: xlabel='Gender'>"
            ]
          },
          "metadata": {},
          "execution_count": 23
        },
        {
          "output_type": "display_data",
          "data": {
            "text/plain": [
              "<Figure size 640x480 with 1 Axes>"
            ],
            "image/png": "[encoded data removed]"
          },
          "metadata": {}
        }
      ],
      "execution_count": 23
    },
    {
      "metadata": {
        "id": "6103b01c3325bc97"
      },
      "cell_type": "markdown",
      "source": [
        "The gender distribution in the training set is balanced, which is beneficial for the model’s generalization. Additionally, the gender distribution is equal in both the testing and validation sets, as they reflect real-world conditions. Therefore, the data split is appropriate."
      ],
      "id": "6103b01c3325bc97"
    },
    {
      "metadata": {
        "id": "a85e2bb43218666"
      },
      "cell_type": "markdown",
      "source": [
        "# Data Loader"
      ],
      "id": "a85e2bb43218666"
    },
    {
      "metadata": {
        "ExecuteTime": {
          "end_time": "2024-11-07T19:00:58.572682Z",
          "start_time": "2024-11-07T19:00:58.498761Z"
        },
        "id": "8faaab3b058ef2cd",
        "outputId": "9d2062df-8593-458e-f252-b44e84bce3dc",
        "colab": {
          "base_uri": "https://localhost:8080/"
        }
      },
      "cell_type": "code",
      "source": [
        "from models_dataloaders import *\n",
        "\n",
        "train_csv = \"train_data.csv\"\n",
        "val_csv = \"val_data.csv\"\n",
        "test_csv = \"test_data.csv\"\n",
        "root_path = \"/content/MEDVSE\"\n",
        "dwn_factor = 2\n",
        "time_length = 10\n",
        "mode = \"hr\"  # Choose \"hr\" or \"spo2\" based on mode\n",
        "batch_size = 32\n",
        "\n",
        "# Create training dataset and fit signal scaler for signals\n",
        "train_dataset = SignalDataset(train_csv, root_path, dwn_factor, time_length, mode)\n",
        "signal_scaler = fit_scaler_on_train_data(train_dataset, mode)  # Pass the mode\n",
        "\n",
        "# Fit the label scaler based on the mode (hr or spo2)\n",
        "label_scaler = fit_label_scaler_on_train_data(train_dataset, mode)\n",
        "\n",
        "# Create datasets with the fitted scalers for train, validation, and test\n",
        "train_dataset = SignalDataset(train_csv, root_path, dwn_factor, time_length, mode, signal_scaler, label_scaler)\n",
        "val_dataset = SignalDataset(val_csv, root_path, dwn_factor, time_length, mode, signal_scaler, label_scaler)\n",
        "test_dataset = SignalDataset(test_csv, root_path, dwn_factor, time_length, mode, signal_scaler, label_scaler)\n",
        "\n",
        "# Create DataLoaders\n",
        "train_loader = DataLoader(train_dataset, batch_size=batch_size, shuffle=True)\n",
        "val_loader = DataLoader(val_dataset, batch_size=batch_size, shuffle=False)\n",
        "test_loader = DataLoader(test_dataset, batch_size=batch_size, shuffle=False)\n",
        "\n",
        "#\n",
        "for ppg, label in train_loader:\n",
        "    print(\"PPG batch shape:\", ppg.shape)  # Should be [batch_size, seq_len, 3]\n",
        "    print(\"Label batch shape:\", label.shape)  # Should be [batch_size]\n",
        "    break\n"
      ],
      "id": "8faaab3b058ef2cd",
      "outputs": [
        {
          "output_type": "stream",
          "name": "stdout",
          "text": [
            "PPG batch shape: torch.Size([32, 150, 3])\n",
            "Label batch shape: torch.Size([32])\n"
          ]
        }
      ],
      "execution_count": 28
    },
    {
      "metadata": {
        "ExecuteTime": {
          "end_time": "2024-11-07T19:19:48.973134Z",
          "start_time": "2024-11-07T19:19:48.966934Z"
        },
        "id": "4119553e7b61df3",
        "outputId": "5e7d9426-f4a3-4a76-916d-a08b3743b78c",
        "colab": {
          "base_uri": "https://localhost:8080/"
        }
      },
      "cell_type": "code",
      "source": [
        "# Check one Sample\n",
        "A, B = next(iter(train_loader))\n",
        "print(A, B)\n",
        "\n",
        "# Check the data length\n",
        "print(f\"\\nData Length is {len(train_dataset)}\")"
      ],
      "id": "4119553e7b61df3",
      "outputs": [
        {
          "output_type": "stream",
          "name": "stdout",
          "text": [
            "tensor([[[ 0.7471,  0.7471,  0.7471],\n",
            "         [ 0.7251,  0.7251,  0.7251],\n",
            "         [ 0.7319,  0.7319,  0.7319],\n",
            "         ...,\n",
            "         [ 0.7258,  0.7258,  0.7258],\n",
            "         [ 0.7245,  0.7245,  0.7245],\n",
            "         [ 0.7318,  0.7318,  0.7318]],\n",
            "\n",
            "        [[ 0.4347,  0.4347,  0.4347],\n",
            "         [ 0.4662,  0.4662,  0.4662],\n",
            "         [ 0.4940,  0.4940,  0.4940],\n",
            "         ...,\n",
            "         [ 0.2862,  0.2862,  0.2862],\n",
            "         [ 0.1450,  0.1450,  0.1450],\n",
            "         [ 0.0910,  0.0910,  0.0910]],\n",
            "\n",
            "        [[ 0.4629,  0.4629,  0.4629],\n",
            "         [ 0.4975,  0.4975,  0.4975],\n",
            "         [ 0.5204,  0.5204,  0.5204],\n",
            "         ...,\n",
            "         [-0.0034, -0.0034, -0.0034],\n",
            "         [ 0.0103,  0.0103,  0.0103],\n",
            "         [ 0.0436,  0.0436,  0.0436]],\n",
            "\n",
            "        ...,\n",
            "\n",
            "        [[ 0.6670,  0.6670,  0.6670],\n",
            "         [ 0.6687,  0.6687,  0.6687],\n",
            "         [ 0.6688,  0.6688,  0.6688],\n",
            "         ...,\n",
            "         [ 0.6950,  0.6950,  0.6950],\n",
            "         [ 0.6958,  0.6958,  0.6958],\n",
            "         [ 0.6968,  0.6968,  0.6968]],\n",
            "\n",
            "        [[ 0.7227,  0.7227,  0.7227],\n",
            "         [ 0.7227,  0.7227,  0.7227],\n",
            "         [ 0.7253,  0.7253,  0.7253],\n",
            "         ...,\n",
            "         [ 0.7165,  0.7165,  0.7165],\n",
            "         [ 0.7028,  0.7028,  0.7028],\n",
            "         [ 0.7030,  0.7030,  0.7030]],\n",
            "\n",
            "        [[-1.3402, -1.3402, -1.3402],\n",
            "         [-1.3046, -1.3046, -1.3046],\n",
            "         [-1.2746, -1.2746, -1.2746],\n",
            "         ...,\n",
            "         [-0.9639, -0.9639, -0.9639],\n",
            "         [-0.9725, -0.9725, -0.9725],\n",
            "         [-0.9186, -0.9186, -0.9186]]]) tensor([-0.7810,  0.4859, -0.3567, -0.1906, -0.2152, -0.5350, -0.3813,  0.3014,\n",
            "         1.2485, -1.3899, -1.7220,  0.7811,  0.3506,  0.2214,  0.0800,  0.0861,\n",
            "         0.3936, -1.0701,  1.4945, -1.6236,  0.0861,  0.4305,  0.9103, -0.5473,\n",
            "        -0.2890, -0.8917, -0.5535,  1.3961, -0.0246, -0.6826, -0.1291,  0.5044])\n",
            "\n",
            "Data Length is 316\n"
          ]
        }
      ],
      "execution_count": 29
    }
  ],
  "metadata": {
    "kernelspec": {
      "display_name": "Python 3",
      "language": "python",
      "name": "python3"
    },
    "language_info": {
      "codemirror_mode": {
        "name": "ipython",
        "version": 2
      },
      "file_extension": ".py",
      "mimetype": "text/x-python",
      "name": "python",
      "nbconvert_exporter": "python",
      "pygments_lexer": "ipython2",
      "version": "2.7.6"
    },
    "colab": {
      "provenance": [],
      "include_colab_link": true
    }
  },
  "nbformat": 4,
  "nbformat_minor": 5
}