{
  "cells": [
    {
      "cell_type": "markdown",
      "metadata": {
        "id": "view-in-github",
        "colab_type": "text"
      },
      "source": [
        "<a href=\"https://colab.research.google.com/github/MissUnique/MEDVSE-Project/blob/main/Main.ipynb\" target=\"_parent\"><img src=\"https://colab.research.google.com/assets/colab-badge.svg\" alt=\"Open In Colab\"/></a>"
      ]
    },
    {
      "metadata": {
        "id": "42e30438b7c35297"
      },
      "cell_type": "markdown",
      "source": [
        "# **Project Overview**\n",
        "\n",
        "This project presents an innovative deep learning solution for estimating vital signs through smartphone cameras, addressing the growing need for accessible health monitoring, particularly for elder care and disease management. Unlike existing approaches that rely on complex preprocessing steps and hand-crafted features, this solution utilizes a fully convolutional architecture, optimizing computational efficiency and minimizing overfitting risks. The model estimates key vital signs - heart rate (HR), oxygen saturation levels (SpO2), and respiratory rate (RR) - from video input. Tested on a dataset of 62 videos from 35 men and 27 women, it shows promise for on-device smartphone health monitoring deployment without sacrificing accuracy or performance."
      ],
      "id": "42e30438b7c35297"
    },
    {
      "metadata": {
        "id": "721c2bd42786ef71"
      },
      "cell_type": "markdown",
      "source": [
        "# **Importing libraries**"
      ],
      "id": "721c2bd42786ef71"
    },
    {
      "metadata": {
        "ExecuteTime": {
          "end_time": "2024-11-09T02:33:21.727089Z",
          "start_time": "2024-11-09T02:33:21.724188Z"
        },
        "id": "667b6d05590784d1"
      },
      "cell_type": "code",
      "source": [
        "import torch\n",
        "from engine import *\n",
        "from models_builders import *\n",
        "from models_dataloaders import *\n",
        "import numpy as np\n",
        "import pandas as pd\n",
        "import matplotlib.pyplot as plt\n",
        "import warnings\n",
        "\n",
        "warnings.filterwarnings('ignore')\n"
      ],
      "id": "667b6d05590784d1",
      "outputs": [],
      "execution_count": null
    },
    {
      "metadata": {
        "id": "f2898df77fd27c53"
      },
      "cell_type": "markdown",
      "source": [
        "# **Data Overview**\n",
        "\n",
        "\n",
        "The MTHS dataset was collected to provide PPG signals using a smartphone camera, as few such datasets exist. Key details:\n",
        "\n",
        "- **Device used**: iPhone 5s (30 fps), with flashlight on.\n",
        "\n",
        "- **Participants**: 62 total (35 men, 27 women).\n",
        "\n",
        "- **Sampling**:\n",
        "    - PPG signal: 30 Hz.\n",
        "    - Ground truth (Heart Rate & SpO₂): 1 Hz, measured using a pulse oximeter (M70).\n",
        "    \n",
        "- **Procedure**: Patients fully covered the camera and flashlight with their fingertips."
      ],
      "id": "f2898df77fd27c53"
    },
    {
      "metadata": {
        "id": "13c3df7818f46849"
      },
      "cell_type": "markdown",
      "source": [
        "# **Data Pre-Processing**\n",
        "\n",
        "Data pre-processing is a crucial step that enhances data quality and reliability, providing valuable insights into its structure, patterns, and any inconsistencies. This stage helps identify and handle missing or noisy data, normalize values, and prepare the dataset for analysis or modeling. Effective pre-processing enables us to make informed decisions about further steps, ensuring that the dataset is accurate, consistent, and ready for optimal performance in subsequent analysis or machine learning tasks.\n",
        "\n",
        "**In this section :**\n",
        "\n",
        "1- Create a Metadata DataFrame\n",
        "\n",
        "2- Visualize Sample Data\n"
      ],
      "id": "13c3df7818f46849"
    },
    {
      "metadata": {
        "id": "5144806eb5fb167"
      },
      "cell_type": "markdown",
      "source": [
        "## **MetaData**"
      ],
      "id": "5144806eb5fb167"
    },
    {
      "cell_type": "code",
      "id": "initial_id",
      "metadata": {
        "collapsed": true,
        "ExecuteTime": {
          "end_time": "2024-11-06T22:48:12.283386Z",
          "start_time": "2024-11-06T22:48:12.249214Z"
        },
        "id": "initial_id"
      },
      "source": [
        "# Create Dictionary\n",
        "# Number of labels refers to the number of samples extracted from each signal.\n",
        "Dic = {\"patient_ID\" : [],\"Gender\" : [],\"number_of_labels\" : []}\n",
        "root_path = \"/content/MEDVSE\"\n",
        "patients_metadata = pd.read_excel(\"MEDVSE/MTHS/gender.xlsx\")\n",
        "time_length = 10\n",
        "\n",
        "for i in range(67):\n",
        "    try:\n",
        "        signals = np.load(f\"{root_path}/MTHS/Data/signal_{i}.npy\")\n",
        "        labels = np.load(f\"{root_path}/MTHS/Data/label_{i}.npy\")\n",
        "\n",
        "        Dic[\"patient_ID\"].append(i)\n",
        "        Dic[\"Gender\"].append(patients_metadata[patients_metadata[\"id\"] == i][\"gender\"].values[0])\n",
        "        Dic[\"number_of_labels\"].append(labels.shape[0]/time_length)\n",
        "    except:\n",
        "        continue\n",
        "\n",
        "# Meta Data\n",
        "data = pd.DataFrame.from_dict(Dic)"
      ],
      "outputs": [],
      "execution_count": null
    },
    {
      "metadata": {
        "ExecuteTime": {
          "end_time": "2024-11-06T22:48:13.034945Z",
          "start_time": "2024-11-06T22:48:13.028206Z"
        },
        "id": "4fd86989bd2d9854",
        "outputId": "4198787f-6485-4e44-aa3b-0682f8869dc0"
      },
      "cell_type": "code",
      "source": [
        "data.head(5)"
      ],
      "id": "4fd86989bd2d9854",
      "outputs": [
        {
          "data": {
            "text/plain": [
              "   patient_ID Gender  number_of_labels\n",
              "0           2      M               2.6\n",
              "1           3      F               5.9\n",
              "2           4      M               7.9\n",
              "3           5      F               6.0\n",
              "4           6      M               6.4"
            ],
            "text/html": [
              "<div>\n",
              "<style scoped>\n",
              "    .dataframe tbody tr th:only-of-type {\n",
              "        vertical-align: middle;\n",
              "    }\n",
              "\n",
              "    .dataframe tbody tr th {\n",
              "        vertical-align: top;\n",
              "    }\n",
              "\n",
              "    .dataframe thead th {\n",
              "        text-align: right;\n",
              "    }\n",
              "</style>\n",
              "<table border=\"1\" class=\"dataframe\">\n",
              "  <thead>\n",
              "    <tr style=\"text-align: right;\">\n",
              "      <th></th>\n",
              "      <th>patient_ID</th>\n",
              "      <th>Gender</th>\n",
              "      <th>number_of_labels</th>\n",
              "    </tr>\n",
              "  </thead>\n",
              "  <tbody>\n",
              "    <tr>\n",
              "      <th>0</th>\n",
              "      <td>2</td>\n",
              "      <td>M</td>\n",
              "      <td>2.6</td>\n",
              "    </tr>\n",
              "    <tr>\n",
              "      <th>1</th>\n",
              "      <td>3</td>\n",
              "      <td>F</td>\n",
              "      <td>5.9</td>\n",
              "    </tr>\n",
              "    <tr>\n",
              "      <th>2</th>\n",
              "      <td>4</td>\n",
              "      <td>M</td>\n",
              "      <td>7.9</td>\n",
              "    </tr>\n",
              "    <tr>\n",
              "      <th>3</th>\n",
              "      <td>5</td>\n",
              "      <td>F</td>\n",
              "      <td>6.0</td>\n",
              "    </tr>\n",
              "    <tr>\n",
              "      <th>4</th>\n",
              "      <td>6</td>\n",
              "      <td>M</td>\n",
              "      <td>6.4</td>\n",
              "    </tr>\n",
              "  </tbody>\n",
              "</table>\n",
              "</div>"
            ]
          },
          "execution_count": 106,
          "metadata": {},
          "output_type": "execute_result"
        }
      ],
      "execution_count": null
    },
    {
      "metadata": {
        "id": "1b7fb5fe03e59fdf"
      },
      "cell_type": "markdown",
      "source": [
        "## **Visualization**"
      ],
      "id": "1b7fb5fe03e59fdf"
    },
    {
      "metadata": {
        "ExecuteTime": {
          "end_time": "2024-11-06T23:49:50.010360Z",
          "start_time": "2024-11-06T23:49:50.005370Z"
        },
        "id": "25632ff59dba4ec9"
      },
      "cell_type": "code",
      "source": [
        "def visualize(i):\n",
        "    assert 2 <= i <= 66, \"out of bounds\"\n",
        "    signals = np.load(f\"{root_path}/MTHS/Data/signal_{i}.npy\")\n",
        "    plt.plot(list(range(signals.shape[0])),signals[:,0])"
      ],
      "id": "25632ff59dba4ec9",
      "outputs": [],
      "execution_count": null
    },
    {
      "metadata": {
        "ExecuteTime": {
          "end_time": "2024-11-06T23:50:16.116713Z",
          "start_time": "2024-11-06T23:50:16.030300Z"
        },
        "id": "2003285645130b6e",
        "outputId": "8515118e-fd73-4e6c-8f17-2ee0595c3295"
      },
      "cell_type": "code",
      "source": [
        "visualize(8)"
      ],
      "id": "2003285645130b6e",
      "outputs": [
        {
          "data": {
            "text/plain": [
              "<Figure size 640x480 with 1 Axes>"
            ],
            "image/png": "[encoded data removed]"
          },
          "metadata": {},
          "output_type": "display_data"
        }
      ],
      "execution_count": null
    },
    {
      "metadata": {
        "id": "761ff587edd69f5e"
      },
      "cell_type": "markdown",
      "source": [
        "Experiments show that data normalization is essential for optimal model performance. Without normalization, larger values can skew the model, as it may mistakenly interpret them as more significant. Normalizing the data helps ensure all features contribute equally. Additionally, larger values can slowdown convergence speed and make the model more computationally intensive."
      ],
      "id": "761ff587edd69f5e"
    },
    {
      "metadata": {
        "ExecuteTime": {
          "end_time": "2024-11-06T22:23:42.514469Z",
          "start_time": "2024-11-06T22:23:42.369594Z"
        },
        "id": "9e0b3997213f630a",
        "outputId": "89617884-db39-4510-ad46-687da9d0b978"
      },
      "cell_type": "code",
      "source": [
        "data[\"Gender\"].value_counts().plot.bar()"
      ],
      "id": "9e0b3997213f630a",
      "outputs": [
        {
          "data": {
            "text/plain": [
              "<Axes: xlabel='Gender'>"
            ]
          },
          "execution_count": 72,
          "metadata": {},
          "output_type": "execute_result"
        },
        {
          "data": {
            "text/plain": [
              "<Figure size 640x480 with 1 Axes>"
            ],
            "image/png": "[encoded data removed]"
          },
          "metadata": {},
          "output_type": "display_data"
        }
      ],
      "execution_count": null
    },
    {
      "metadata": {
        "id": "5f258e9272a46ab7"
      },
      "cell_type": "markdown",
      "source": [
        "From the plot, we can see that the gap between females and males is not very large. Since it is important to split the data such that the distribution of patients is consistent across the sets, this should be taken into account."
      ],
      "id": "5f258e9272a46ab7"
    },
    {
      "metadata": {
        "id": "dba6c015e1927e3e"
      },
      "cell_type": "markdown",
      "source": [
        "# **Important Takeaways from the Paper**\n",
        "\n",
        "There are several important points to note from the paper:\n",
        "\n",
        "**Missing Technical Details:** Many technical details are missing in the paper, which led me to consult the code to check the values. However, this was the extent of the information available.\n",
        "\n",
        "**Methodologies:**\n",
        "- **Gender distribution:** The author did not ensure that gender was evenly distributed across the three sets. The distribution of gender can significantly impact the model's performance and generalizability.\n",
        "\n",
        "- **Data Splitting Methodology:** The author splits the data by combining all the signal values into one vector and then processing them into sequences. Afterward, the data is split randomly. ***I believe this approach is flawed and may lead to data leakage.***\n",
        "\n",
        "**Reason:**\n",
        "In medical applications, it is better to split the data by patient (depending on the case). In this scenario, each patient’s data should be assigned to either the training, validation, or testing set, with no overlap between them. Assigning each patient’s data to only one set prevents data leakage by avoiding shared patterns or rhythms, which could lead to artificially high performance.\n",
        "\n",
        "As  a researcher, I prioritize evaluating methodologies from papers carefully to ensure accuracy. While the task at hand is to replicate the paper’s results, I’ll use a more appropriate data-splitting approach, while preserving the original models without modifications.\n"
      ],
      "id": "dba6c015e1927e3e"
    },
    {
      "metadata": {
        "id": "4c917f74a827408"
      },
      "cell_type": "markdown",
      "source": [
        "## **Data Splitting**"
      ],
      "id": "4c917f74a827408"
    },
    {
      "metadata": {
        "id": "e52d04722358bbc9"
      },
      "cell_type": "markdown",
      "source": [
        "**In this section,**\n",
        "\n",
        "- I will split the data such that each patient's data is assigned to only one section (either training, validation, or testing).\n",
        "\n",
        "- I will ensure that gender is equally distributed across the three sets.\n",
        "\n",
        "- I will use a standard practice for data distribution (70% training, 15% validation, and 15% testing) as the proposed 80%, 4%, and 16% distribution in the paper provides insufficient validation data for this small dataset. That way, the model's performance is not assessed properly."
      ],
      "id": "e52d04722358bbc9"
    },
    {
      "metadata": {
        "ExecuteTime": {
          "end_time": "2024-11-07T00:16:07.177917Z",
          "start_time": "2024-11-07T00:16:07.164852Z"
        },
        "id": "1130febac74d74af",
        "outputId": "b2ab80df-6851-4f1b-d28f-2cdaaf65842b"
      },
      "cell_type": "code",
      "source": [
        "total_labels = data['number_of_labels'].sum()\n",
        "\n",
        "train_size = int(total_labels * 0.7)\n",
        "val_size = int(total_labels * 0.15)\n",
        "test_size = total_labels - train_size - val_size\n",
        "\n",
        "# Shuffle the data randomly (to ensure randomness in patient assignment)\n",
        "data_shuffled = data.sample(frac=1, random_state=42).reset_index(drop=True)\n",
        "\n",
        "# Assign patients to the sets based on cumulative labels\n",
        "train_data = []\n",
        "val_data = []\n",
        "test_data = []\n",
        "\n",
        "cumulative_labels = 0\n",
        "\n",
        "# assign to training set first\n",
        "for index, row in data_shuffled.iterrows():\n",
        "    cumulative_labels += row['number_of_labels']\n",
        "    if cumulative_labels <= train_size:\n",
        "        train_data.append(row)\n",
        "    elif cumulative_labels <= train_size + val_size:\n",
        "        val_data.append(row)\n",
        "    else:\n",
        "        test_data.append(row)\n",
        "\n",
        "# Convert back to DataFrames\n",
        "train_data = pd.DataFrame(train_data)\n",
        "val_data = pd.DataFrame(val_data)\n",
        "test_data = pd.DataFrame(test_data)\n",
        "\n",
        "# Optionally, save the splits to CSV\n",
        "train_data.to_csv('train_data.csv', index=False)\n",
        "val_data.to_csv('val_data.csv', index=False)\n",
        "test_data.to_csv('test_data.csv', index=False)\n"
      ],
      "id": "1130febac74d74af",
      "outputs": [
        {
          "name": "stdout",
          "output_type": "stream",
          "text": [
            "\n",
            "Training Data:\n",
            "    patient_ID Gender  number_of_labels\n",
            "0           55      M               6.0\n",
            "1           61      F               6.2\n",
            "2            2      M               2.6\n",
            "3           62      F               6.0\n",
            "4            7      M               6.1\n",
            "5           53      F               6.0\n",
            "6           21      M              11.9\n",
            "7           14      M              11.9\n",
            "8           30      M              11.9\n",
            "9           64      F               6.2\n",
            "10          35      M               6.0\n",
            "11          11      F               5.9\n",
            "12          52      F               6.0\n",
            "13          15      M               6.1\n",
            "14          38      F               6.0\n",
            "15          39      F               6.0\n",
            "16           5      F               6.0\n",
            "17          22      M              12.2\n",
            "18          59      F               6.0\n",
            "19          10      M               6.0\n",
            "20           8      M               5.1\n",
            "21          36      M               6.0\n",
            "22           6      M               6.4\n",
            "23          50      F               6.0\n",
            "24          24      M              12.0\n",
            "25          57      F               6.0\n",
            "26          41      M               6.0\n",
            "27          58      F               6.1\n",
            "28          46      M               6.0\n",
            "29          63      M               5.9\n",
            "30          20      M              11.8\n",
            "31          45      F               6.4\n",
            "32          32      F               6.0\n",
            "33          31      M              11.8\n",
            "34          29      M              11.9\n",
            "35          49      F               6.2\n",
            "36          13      M              13.4\n",
            "37          37      F               6.0\n",
            "38          60      F               6.0\n",
            "39          48      M               6.1\n",
            "40          42      F               6.0\n",
            "41          34      F               6.0\n",
            "42          51      M               6.1\n",
            "43           3      F               5.9\n",
            "\n",
            "Validation Data:\n",
            "    patient_ID Gender  number_of_labels\n",
            "44          26      M              11.9\n",
            "45           4      M               7.9\n",
            "46          54      F               6.0\n",
            "47          44      M               6.1\n",
            "48          40      F               6.0\n",
            "49          28      M              11.9\n",
            "50          65      F               6.0\n",
            "51          12      M               8.9\n",
            "52          27      M              11.9\n",
            "\n",
            "Test Data:\n",
            "    patient_ID Gender  number_of_labels\n",
            "53          23      M              11.9\n",
            "54          66      M               6.0\n",
            "55          25      M              12.0\n",
            "56           9      M               6.0\n",
            "57          47      F               6.0\n",
            "58          19      M              11.9\n",
            "59          33      F               6.2\n",
            "60          56      F               6.0\n",
            "61          43      M               6.0\n"
          ]
        }
      ],
      "execution_count": null
    },
    {
      "metadata": {
        "ExecuteTime": {
          "end_time": "2024-11-07T00:16:08.202312Z",
          "start_time": "2024-11-07T00:16:08.198513Z"
        },
        "id": "56fef6d21609311f",
        "outputId": "0e5e56e7-d323-4e0c-ae5c-e3fe2ae9a547"
      },
      "cell_type": "code",
      "source": [
        "train_patients = set(train_data['patient_ID'])\n",
        "val_patients = set(val_data['patient_ID'])\n",
        "test_patients = set(test_data['patient_ID'])\n",
        "\n",
        "# To make sure that there is no overlap across the sets\n",
        "train_val_overlap = train_patients.intersection(val_patients)\n",
        "train_test_overlap = train_patients.intersection(test_patients)\n",
        "val_test_overlap = val_patients.intersection(test_patients)\n",
        "\n",
        "# Print the results of the overlap check\n",
        "print(\"\\nOverlap Checks:\")\n",
        "print(f\"Overlap between training and validation sets: {train_val_overlap}\")\n",
        "print(f\"Overlap between training and test sets: {train_test_overlap}\")\n",
        "print(f\"Overlap between validation and test sets: {val_test_overlap}\")"
      ],
      "id": "56fef6d21609311f",
      "outputs": [
        {
          "name": "stdout",
          "output_type": "stream",
          "text": [
            "\n",
            "Overlap Checks:\n",
            "Overlap between training and validation sets: set()\n",
            "Overlap between training and test sets: set()\n",
            "Overlap between validation and test sets: set()\n"
          ]
        }
      ],
      "execution_count": null
    },
    {
      "metadata": {
        "id": "bd6795917e237d01"
      },
      "cell_type": "markdown",
      "source": [
        "This step ensured that there was no overlap between the sets, ensuring data integrity and preventing any data leakage."
      ],
      "id": "bd6795917e237d01"
    },
    {
      "metadata": {
        "ExecuteTime": {
          "end_time": "2024-11-07T00:16:16.872073Z",
          "start_time": "2024-11-07T00:16:16.814746Z"
        },
        "id": "d540d4210ce0a53f",
        "outputId": "c41e1667-1cf7-4ee7-c3f1-798d14d44534"
      },
      "cell_type": "code",
      "source": [
        "train_data[\"Gender\"].value_counts().plot.bar()"
      ],
      "id": "d540d4210ce0a53f",
      "outputs": [
        {
          "data": {
            "text/plain": [
              "<Axes: xlabel='Gender'>"
            ]
          },
          "execution_count": 140,
          "metadata": {},
          "output_type": "execute_result"
        },
        {
          "data": {
            "text/plain": [
              "<Figure size 640x480 with 1 Axes>"
            ],
            "image/png": "[encoded data removed]"
          },
          "metadata": {},
          "output_type": "display_data"
        }
      ],
      "execution_count": null
    },
    {
      "metadata": {
        "ExecuteTime": {
          "end_time": "2024-11-07T00:16:17.260117Z",
          "start_time": "2024-11-07T00:16:17.196876Z"
        },
        "id": "e363d3fd588dc6cb",
        "outputId": "c21860ea-6339-488c-983e-c1a73b63a751"
      },
      "cell_type": "code",
      "source": [
        "val_data[\"Gender\"].value_counts().plot.bar()"
      ],
      "id": "e363d3fd588dc6cb",
      "outputs": [
        {
          "data": {
            "text/plain": [
              "<Axes: xlabel='Gender'>"
            ]
          },
          "execution_count": 141,
          "metadata": {},
          "output_type": "execute_result"
        },
        {
          "data": {
            "text/plain": [
              "<Figure size 640x480 with 1 Axes>"
            ],
            "image/png": "[encoded data removed]"
          },
          "metadata": {},
          "output_type": "display_data"
        }
      ],
      "execution_count": null
    },
    {
      "metadata": {
        "ExecuteTime": {
          "end_time": "2024-11-07T00:16:17.664928Z",
          "start_time": "2024-11-07T00:16:17.607849Z"
        },
        "id": "387c454bde86efb4",
        "outputId": "2c24e3b5-b91c-4b1a-8596-3bc0fee72a27"
      },
      "cell_type": "code",
      "source": [
        "test_data[\"Gender\"].value_counts().plot.bar()"
      ],
      "id": "387c454bde86efb4",
      "outputs": [
        {
          "data": {
            "text/plain": [
              "<Axes: xlabel='Gender'>"
            ]
          },
          "execution_count": 142,
          "metadata": {},
          "output_type": "execute_result"
        },
        {
          "data": {
            "text/plain": [
              "<Figure size 640x480 with 1 Axes>"
            ],
            "image/png": "[encoded data removed]"
          },
          "metadata": {},
          "output_type": "display_data"
        }
      ],
      "execution_count": null
    },
    {
      "metadata": {
        "id": "6103b01c3325bc97"
      },
      "cell_type": "markdown",
      "source": [
        "The gender distribution in the training set is balanced, which is beneficial for the model’s generalization. Additionally, the gender distribution is equal in both the testing and validation sets, as they reflect real-world conditions. Therefore, the data split is appropriate."
      ],
      "id": "6103b01c3325bc97"
    },
    {
      "metadata": {
        "id": "a85e2bb43218666"
      },
      "cell_type": "markdown",
      "source": [
        "# **Data Loader and Key Considerations from the Paper**\n",
        "\n",
        "In the original model, a `StandardScaler` layer was used to standardize each batch individually rather than applying standardization across the entire dataset.\n",
        " ***This approach created two key issues:***\n",
        "\n",
        "\n",
        "\n",
        "**Batch-Specific Standardization**\n",
        "\n",
        "The model applied standardization to each batch separately rather than using statistics from the entire dataset. This inconsistent scaling across batches could lead to instability in training and evaluation because the model was trained on data that lacked a consistent distribution.\n",
        "\n",
        "\n",
        "\n",
        "**Data Leakage Due to Incorrect Standardization**\n",
        "\n",
        "The authors incorrectly standardized the validation and test sets using their respective means and standard deviations. This resulted in ***data leakage***, as the model indirectly accessed information from the validation and test sets before evaluation, violating a fundamental rule in machine learning.\n",
        "\n",
        "For robust and unbiased model evaluation, only the statistics from the training set should be used to standardize all data, ensuring that the model does not gain insight into unseen data.\n",
        "\n",
        "\n",
        "\n",
        "# **Correction and Improved Data Integrity**\n",
        "\n",
        "To address these issues, we implemented the following corrective measures:\n",
        "\n",
        "**1. Consistent Scaling Across the Dataset**\n",
        "We standardized all data using the mean and standard deviation derived solely from the training set, ensuring that the training, validation, and test sets shared a consistent distribution.\n",
        "\n",
        "**2. Prevention of Data Leakage**\n",
        "By exclusively using the training set statistics for standardization, we eliminated data leakage, maintaining the integrity of model evaluation. This approach aligns with best practices in machine learning and better simulates real-world conditions, where the model has no access to validation or test data statistics.\n",
        "\n",
        "These adjustments prevent data leakage and create a more robust and reliable evaluation pipeline for the model, providing a fair assessment of its performance on unseen data.\n"
      ],
      "id": "a85e2bb43218666"
    },
    {
      "metadata": {
        "id": "f8b28a457080038e"
      },
      "cell_type": "markdown",
      "source": [
        "# **Data Loader**"
      ],
      "id": "f8b28a457080038e"
    },
    {
      "metadata": {
        "ExecuteTime": {
          "end_time": "2024-11-09T02:33:39.904239Z",
          "start_time": "2024-11-09T02:33:39.821305Z"
        },
        "id": "8faaab3b058ef2cd",
        "outputId": "668bacdf-8ed2-41a5-d156-539908c1083f"
      },
      "cell_type": "code",
      "source": [
        "\n",
        "train_csv = \"train_data.csv\"\n",
        "val_csv = \"val_data.csv\"\n",
        "test_csv = \"test_data.csv\"\n",
        "root_path = \"/content/MEDVSE\"\n",
        "dwn_factor = 2\n",
        "time_length = 10\n",
        "mode = \"hr\"\n",
        "batch_size = 32\n",
        "\n",
        "train_loader, val_loader, test_loader = data_loader(train_csv, val_csv, test_csv, root_path, dwn_factor, time_length, batch_size=32, mode=\"hr\")\n"
      ],
      "id": "8faaab3b058ef2cd",
      "outputs": [
        {
          "name": "stdout",
          "output_type": "stream",
          "text": [
            "PPG batch shape: torch.Size([32, 150, 3])\n",
            "Label batch shape: torch.Size([32])\n"
          ]
        }
      ],
      "execution_count": null
    },
    {
      "metadata": {
        "id": "b38f8a0fef628ad"
      },
      "cell_type": "markdown",
      "source": [
        "# **Modelling**"
      ],
      "id": "b38f8a0fef628ad"
    },
    {
      "metadata": {
        "id": "eb3870556efda9a1"
      },
      "cell_type": "markdown",
      "source": [
        "- All the models were created and placed in the model builder file to be reviewed.\n",
        "- I added `stopping criteria` in the training to prevent the model from overfitting."
      ],
      "id": "eb3870556efda9a1"
    },
    {
      "metadata": {
        "id": "f54356954fb5bd24"
      },
      "cell_type": "markdown",
      "source": [
        "## **Target HR**"
      ],
      "id": "f54356954fb5bd24"
    },
    {
      "metadata": {
        "id": "bedb85f00c57c04d"
      },
      "cell_type": "markdown",
      "source": [
        "## **Base Model**"
      ],
      "id": "bedb85f00c57c04d"
    },
    {
      "metadata": {
        "ExecuteTime": {
          "end_time": "2024-11-08T20:42:58.101324Z",
          "start_time": "2024-11-08T20:42:57.429696Z"
        },
        "id": "1ff34a699642bb0e"
      },
      "cell_type": "code",
      "source": [
        "Base_model = BaseModel()\n",
        "optimizer = torch.optim.Adam(Base_model.parameters(), lr=0.001)\n",
        "loss_fn = torch.nn.MSELoss()\n",
        "device = torch.device(\"cuda:0\" if torch.cuda.is_available() else \"cpu\")\n",
        "Base_model=Base_model.to(device)"
      ],
      "id": "1ff34a699642bb0e",
      "outputs": [],
      "execution_count": null
    },
    {
      "metadata": {
        "ExecuteTime": {
          "end_time": "2024-11-08T20:44:00.409228Z",
          "start_time": "2024-11-08T20:44:00.210449Z"
        },
        "id": "cbcc09f4a771f388",
        "outputId": "a3e47c0e-1bf0-44f1-86ce-a55988f4ea58"
      },
      "cell_type": "code",
      "source": [
        "train(Base_model,optimizer,20,device,loss_fn,train_loader,val_loader,patience=5)"
      ],
      "id": "cbcc09f4a771f388",
      "outputs": [
        {
          "name": "stderr",
          "output_type": "stream",
          "text": [
            " 35%|███▌      | 7/20 [00:00<00:00, 36.32it/s]"
          ]
        },
        {
          "name": "stdout",
          "output_type": "stream",
          "text": [
            "\n",
            "Epoch 1 | Train MSE: 0.4481, Train MAE: 0.5213, Train RMSE: 0.6694 | Test MSE: 0.5005, Test MAE: 0.5664, Test RMSE: 0.7075\n",
            "\n",
            "Epoch 2 | Train MSE: 0.4633, Train MAE: 0.5317, Train RMSE: 0.6807 | Test MSE: 0.4732, Test MAE: 0.5545, Test RMSE: 0.6879\n",
            "\n",
            "Epoch 3 | Train MSE: 0.5003, Train MAE: 0.5486, Train RMSE: 0.7073 | Test MSE: 0.4847, Test MAE: 0.5630, Test RMSE: 0.6962\n",
            "\n",
            "Epoch 4 | Train MSE: 0.4682, Train MAE: 0.5311, Train RMSE: 0.6842 | Test MSE: 0.5252, Test MAE: 0.5861, Test RMSE: 0.7247\n",
            "\n",
            "Epoch 5 | Train MSE: 0.4852, Train MAE: 0.5451, Train RMSE: 0.6966 | Test MSE: 0.5028, Test MAE: 0.5754, Test RMSE: 0.7091\n",
            "\n",
            "Epoch 6 | Train MSE: 0.4475, Train MAE: 0.5323, Train RMSE: 0.6690 | Test MSE: 0.5029, Test MAE: 0.5732, Test RMSE: 0.7092\n",
            "\n",
            "Epoch 7 | Train MSE: 0.5125, Train MAE: 0.5657, Train RMSE: 0.7159 | Test MSE: 0.5019, Test MAE: 0.5742, Test RMSE: 0.7084\n",
            "\n",
            "Epoch 8 | Train MSE: 0.4856, Train MAE: 0.5452, Train RMSE: 0.6968 | Test MSE: 0.5072, Test MAE: 0.5752, Test RMSE: 0.7122\n",
            "Early stopping triggered after 8 epochs.\n"
          ]
        },
        {
          "name": "stderr",
          "output_type": "stream",
          "text": [
            "\n"
          ]
        },
        {
          "data": {
            "text/plain": [
              "{'train_loss': [0.4472207546234131,\n",
              "  0.4618967443704605,\n",
              "  0.4978107541799545,\n",
              "  0.46600645780563354,\n",
              "  0.4851595968008041,\n",
              "  0.4471567213535309,\n",
              "  0.5102064281702041,\n",
              "  0.4875621169805527],\n",
              " 'train_mse': [np.float32(0.4480644),\n",
              "  np.float32(0.46329513),\n",
              "  np.float32(0.500282),\n",
              "  np.float32(0.46817988),\n",
              "  np.float32(0.48524335),\n",
              "  np.float32(0.44752687),\n",
              "  np.float32(0.5124577),\n",
              "  np.float32(0.48557213)],\n",
              " 'train_mae': [np.float32(0.52125055),\n",
              "  np.float32(0.5317244),\n",
              "  np.float32(0.5485799),\n",
              "  np.float32(0.53106457),\n",
              "  np.float32(0.5450788),\n",
              "  np.float32(0.532346),\n",
              "  np.float32(0.5656732),\n",
              "  np.float32(0.54517347)],\n",
              " 'train_rmse': [np.float32(0.66937613),\n",
              "  np.float32(0.68065786),\n",
              "  np.float32(0.70730615),\n",
              "  np.float32(0.6842367),\n",
              "  np.float32(0.6965941),\n",
              "  np.float32(0.6689745),\n",
              "  np.float32(0.7158615),\n",
              "  np.float32(0.69683003)],\n",
              " 'test_loss': [0.46298383673032123,\n",
              "  0.4826989571253459,\n",
              "  0.4369609554608663,\n",
              "  0.5636711716651917,\n",
              "  0.5202862222989401,\n",
              "  0.46266178290049237,\n",
              "  0.5528769890467325,\n",
              "  0.5149692595005035],\n",
              " 'test_mse': [np.float32(0.5004937),\n",
              "  np.float32(0.47322905),\n",
              "  np.float32(0.48473147),\n",
              "  np.float32(0.52523154),\n",
              "  np.float32(0.50283676),\n",
              "  np.float32(0.50293887),\n",
              "  np.float32(0.50188375),\n",
              "  np.float32(0.50718355)],\n",
              " 'test_mae': [np.float32(0.56638986),\n",
              "  np.float32(0.5544927),\n",
              "  np.float32(0.5630438),\n",
              "  np.float32(0.5860813),\n",
              "  np.float32(0.57535875),\n",
              "  np.float32(0.57318294),\n",
              "  np.float32(0.57417786),\n",
              "  np.float32(0.5751965)],\n",
              " 'test_rmse': [np.float32(0.7074558),\n",
              "  np.float32(0.68791646),\n",
              "  np.float32(0.6962266),\n",
              "  np.float32(0.7247286),\n",
              "  np.float32(0.70910984),\n",
              "  np.float32(0.70918185),\n",
              "  np.float32(0.70843756),\n",
              "  np.float32(0.7121682)]}"
            ]
          },
          "execution_count": 22,
          "metadata": {},
          "output_type": "execute_result"
        }
      ],
      "execution_count": null
    },
    {
      "metadata": {
        "ExecuteTime": {
          "end_time": "2024-11-08T20:44:04.249377Z",
          "start_time": "2024-11-08T20:44:04.240403Z"
        },
        "id": "3e08b3f2066f38b2"
      },
      "cell_type": "code",
      "source": [
        "test_results = evaluate_model(Base_model,test_loader,loss_fn,device)"
      ],
      "id": "3e08b3f2066f38b2",
      "outputs": [],
      "execution_count": null
    },
    {
      "metadata": {
        "id": "440876cdb84b6953"
      },
      "cell_type": "markdown",
      "source": [
        "## **FCN**\n",
        "\n",
        "- While the task was to replicate the original paper's implementation, I made some modifications based on common practices in CNN architectures. Specifically, I noticed that the paper used a **linear activation function** following the convolutional layers, which is not typical in modern CNN designs. To align with standard practices, I replaced the **linear activation** with **ReLU (Rectified Linear Unit)**, as it is widely used to introduce non-linearity and improve the model's performance."
      ],
      "id": "440876cdb84b6953"
    },
    {
      "metadata": {
        "ExecuteTime": {
          "end_time": "2024-11-08T20:44:06.999366Z",
          "start_time": "2024-11-08T20:44:06.993357Z"
        },
        "id": "642d51738d4cc7de"
      },
      "cell_type": "code",
      "source": [
        "FCN_model = FCN()\n",
        "optimizer = torch.optim.Adam(FCN_model.parameters(), lr=0.001)\n",
        "loss_fn = torch.nn.MSELoss()\n",
        "device = torch.device(\"cuda:0\" if torch.cuda.is_available() else \"cpu\")\n",
        "FCN_model=FCN_model.to(device)\n"
      ],
      "id": "642d51738d4cc7de",
      "outputs": [],
      "execution_count": null
    },
    {
      "metadata": {
        "ExecuteTime": {
          "end_time": "2024-11-08T20:44:14.433681Z",
          "start_time": "2024-11-08T20:44:14.135622Z"
        },
        "id": "55cdf6fb6e304c0b",
        "outputId": "673c8c22-c3ce-4b4f-9496-eacb5a051259"
      },
      "cell_type": "code",
      "source": [
        "train(FCN_model,optimizer,20,device,loss_fn,train_loader,val_loader,patience=5)"
      ],
      "id": "55cdf6fb6e304c0b",
      "outputs": [
        {
          "name": "stderr",
          "output_type": "stream",
          "text": [
            " 35%|███▌      | 7/20 [00:00<00:00, 34.87it/s]"
          ]
        },
        {
          "name": "stdout",
          "output_type": "stream",
          "text": [
            "\n",
            "Epoch 1 | Train MSE: 0.5399, Train MAE: 0.5424, Train RMSE: 0.7348 | Test MSE: 0.1969, Test MAE: 0.3338, Test RMSE: 0.4437\n",
            "\n",
            "Epoch 2 | Train MSE: 0.5399, Train MAE: 0.5424, Train RMSE: 0.7348 | Test MSE: 0.1969, Test MAE: 0.3338, Test RMSE: 0.4437\n",
            "\n",
            "Epoch 3 | Train MSE: 0.5399, Train MAE: 0.5424, Train RMSE: 0.7348 | Test MSE: 0.1969, Test MAE: 0.3338, Test RMSE: 0.4437\n",
            "\n",
            "Epoch 4 | Train MSE: 0.5399, Train MAE: 0.5424, Train RMSE: 0.7348 | Test MSE: 0.1969, Test MAE: 0.3338, Test RMSE: 0.4437\n",
            "\n",
            "Epoch 5 | Train MSE: 0.5399, Train MAE: 0.5424, Train RMSE: 0.7348 | Test MSE: 0.1969, Test MAE: 0.3338, Test RMSE: 0.4437\n",
            "\n",
            "Epoch 6 | Train MSE: 0.5399, Train MAE: 0.5424, Train RMSE: 0.7348 | Test MSE: 0.1969, Test MAE: 0.3338, Test RMSE: 0.4437\n",
            "\n",
            "Epoch 7 | Train MSE: 0.5399, Train MAE: 0.5424, Train RMSE: 0.7348 | Test MSE: 0.1969, Test MAE: 0.3338, Test RMSE: 0.4437\n",
            "\n",
            "Epoch 8 | Train MSE: 0.5399, Train MAE: 0.5424, Train RMSE: 0.7348 | Test MSE: 0.1969, Test MAE: 0.3338, Test RMSE: 0.4437\n",
            "\n",
            "Epoch 9 | Train MSE: 0.5399, Train MAE: 0.5424, Train RMSE: 0.7348 | Test MSE: 0.1969, Test MAE: 0.3338, Test RMSE: 0.4437\n"
          ]
        },
        {
          "name": "stderr",
          "output_type": "stream",
          "text": [
            " 45%|████▌     | 9/20 [00:00<00:00, 30.79it/s]"
          ]
        },
        {
          "name": "stdout",
          "output_type": "stream",
          "text": [
            "\n",
            "Epoch 10 | Train MSE: 0.5399, Train MAE: 0.5424, Train RMSE: 0.7348 | Test MSE: 0.1969, Test MAE: 0.3338, Test RMSE: 0.4437\n",
            "Early stopping triggered after 10 epochs.\n"
          ]
        },
        {
          "name": "stderr",
          "output_type": "stream",
          "text": [
            "\n"
          ]
        },
        {
          "data": {
            "text/plain": [
              "{'train_loss': [0.5517741918563843,\n",
              "  0.5363071650266648,\n",
              "  0.5375874876976013,\n",
              "  0.5368762105703354,\n",
              "  0.5400371670722961,\n",
              "  0.5396159157156944,\n",
              "  0.5448139786720276,\n",
              "  0.5469474822282792,\n",
              "  0.5395971715450287,\n",
              "  0.53796366751194],\n",
              " 'train_mse': [np.float32(0.5399315),\n",
              "  np.float32(0.5399315),\n",
              "  np.float32(0.53993154),\n",
              "  np.float32(0.5399315),\n",
              "  np.float32(0.53993154),\n",
              "  np.float32(0.5399315),\n",
              "  np.float32(0.5399315),\n",
              "  np.float32(0.5399315),\n",
              "  np.float32(0.5399315),\n",
              "  np.float32(0.5399315)],\n",
              " 'train_mae': [np.float32(0.54240733),\n",
              "  np.float32(0.54240733),\n",
              "  np.float32(0.54240733),\n",
              "  np.float32(0.54240733),\n",
              "  np.float32(0.54240733),\n",
              "  np.float32(0.54240733),\n",
              "  np.float32(0.54240733),\n",
              "  np.float32(0.54240733),\n",
              "  np.float32(0.54240733),\n",
              "  np.float32(0.54240733)],\n",
              " 'train_rmse': [np.float32(0.7348003),\n",
              "  np.float32(0.7348003),\n",
              "  np.float32(0.73480034),\n",
              "  np.float32(0.7348003),\n",
              "  np.float32(0.73480034),\n",
              "  np.float32(0.7348003),\n",
              "  np.float32(0.7348003),\n",
              "  np.float32(0.7348003),\n",
              "  np.float32(0.7348003),\n",
              "  np.float32(0.7348003)],\n",
              " 'test_loss': [0.17436707268158594,\n",
              "  0.19098302721977234,\n",
              "  0.18291818102200827,\n",
              "  0.18841671446959177,\n",
              "  0.1722902605930964,\n",
              "  0.18381506701310477,\n",
              "  0.20969298978646597,\n",
              "  0.20815004905064902,\n",
              "  0.19455030063788095,\n",
              "  0.17725079009930292],\n",
              " 'test_mse': [np.float32(0.19690625),\n",
              "  np.float32(0.19690627),\n",
              "  np.float32(0.19690627),\n",
              "  np.float32(0.19690625),\n",
              "  np.float32(0.19690627),\n",
              "  np.float32(0.19690627),\n",
              "  np.float32(0.19690625),\n",
              "  np.float32(0.19690628),\n",
              "  np.float32(0.19690628),\n",
              "  np.float32(0.19690627)],\n",
              " 'test_mae': [np.float32(0.33382154),\n",
              "  np.float32(0.33382154),\n",
              "  np.float32(0.3338216),\n",
              "  np.float32(0.33382154),\n",
              "  np.float32(0.33382154),\n",
              "  np.float32(0.33382154),\n",
              "  np.float32(0.33382154),\n",
              "  np.float32(0.33382154),\n",
              "  np.float32(0.33382154),\n",
              "  np.float32(0.33382154)],\n",
              " 'test_rmse': [np.float32(0.4437412),\n",
              "  np.float32(0.44374123),\n",
              "  np.float32(0.44374123),\n",
              "  np.float32(0.4437412),\n",
              "  np.float32(0.44374123),\n",
              "  np.float32(0.44374123),\n",
              "  np.float32(0.4437412),\n",
              "  np.float32(0.44374123),\n",
              "  np.float32(0.44374123),\n",
              "  np.float32(0.44374123)]}"
            ]
          },
          "execution_count": 25,
          "metadata": {},
          "output_type": "execute_result"
        }
      ],
      "execution_count": null
    },
    {
      "metadata": {
        "ExecuteTime": {
          "end_time": "2024-11-08T20:44:22.247313Z",
          "start_time": "2024-11-08T20:44:22.239513Z"
        },
        "id": "4c979cbee4868f0c"
      },
      "cell_type": "code",
      "source": [
        "test_results = evaluate_model(FCN_model,test_loader,loss_fn,device)"
      ],
      "id": "4c979cbee4868f0c",
      "outputs": [],
      "execution_count": null
    },
    {
      "metadata": {
        "id": "ced4cc7ac84342a6"
      },
      "cell_type": "markdown",
      "source": [
        "## **Residual**"
      ],
      "id": "ced4cc7ac84342a6"
    },
    {
      "metadata": {
        "ExecuteTime": {
          "end_time": "2024-11-08T20:43:19.532432Z",
          "start_time": "2024-11-08T20:43:19.524545Z"
        },
        "id": "2a57524b02667fab"
      },
      "cell_type": "code",
      "source": [
        "Residual_model = Residual()\n",
        "optimizer = torch.optim.Adam(Residual_model.parameters(), lr=0.001)\n",
        "loss_fn = torch.nn.MSELoss()\n",
        "device = torch.device(\"cuda:0\" if torch.cuda.is_available() else \"cpu\")\n",
        "Residual_model=Residual_model.to(device)"
      ],
      "id": "2a57524b02667fab",
      "outputs": [],
      "execution_count": null
    },
    {
      "metadata": {
        "ExecuteTime": {
          "end_time": "2024-11-08T20:43:20.373825Z",
          "start_time": "2024-11-08T20:43:20.048659Z"
        },
        "id": "c449c25f5f6976ea",
        "outputId": "3df18350-71c2-4530-f8a6-a821eafe26e7"
      },
      "cell_type": "code",
      "source": [
        "train(Residual_model,optimizer,20,device,loss_fn,train_loader,val_loader,patience=3)"
      ],
      "id": "c449c25f5f6976ea",
      "outputs": [
        {
          "name": "stderr",
          "output_type": "stream",
          "text": [
            " 30%|███       | 6/20 [00:00<00:00, 25.18it/s]"
          ]
        },
        {
          "name": "stdout",
          "output_type": "stream",
          "text": [
            "\n",
            "Epoch 1 | Train MSE: 0.9382, Train MAE: 0.7457, Train RMSE: 0.9686 | Test MSE: 1.2191, Test MAE: 0.8189, Test RMSE: 1.1041\n",
            "\n",
            "Epoch 2 | Train MSE: 0.9227, Train MAE: 0.7260, Train RMSE: 0.9606 | Test MSE: 1.1819, Test MAE: 0.8172, Test RMSE: 1.0872\n",
            "\n",
            "Epoch 3 | Train MSE: 0.9327, Train MAE: 0.7422, Train RMSE: 0.9658 | Test MSE: 1.1831, Test MAE: 0.8170, Test RMSE: 1.0877\n",
            "\n",
            "Epoch 4 | Train MSE: 0.9333, Train MAE: 0.7274, Train RMSE: 0.9661 | Test MSE: 1.2477, Test MAE: 0.8461, Test RMSE: 1.1170\n",
            "\n",
            "Epoch 5 | Train MSE: 0.9390, Train MAE: 0.7485, Train RMSE: 0.9690 | Test MSE: 1.0945, Test MAE: 0.7732, Test RMSE: 1.0462\n",
            "\n",
            "Epoch 6 | Train MSE: 0.9297, Train MAE: 0.7448, Train RMSE: 0.9642 | Test MSE: 1.1595, Test MAE: 0.8089, Test RMSE: 1.0768\n",
            "\n",
            "Epoch 7 | Train MSE: 0.9256, Train MAE: 0.7345, Train RMSE: 0.9621 | Test MSE: 1.2776, Test MAE: 0.8482, Test RMSE: 1.1303\n"
          ]
        },
        {
          "name": "stderr",
          "output_type": "stream",
          "text": [
            " 35%|███▌      | 7/20 [00:00<00:00, 21.99it/s]"
          ]
        },
        {
          "name": "stdout",
          "output_type": "stream",
          "text": [
            "\n",
            "Epoch 8 | Train MSE: 0.9182, Train MAE: 0.7248, Train RMSE: 0.9582 | Test MSE: 1.1759, Test MAE: 0.8110, Test RMSE: 1.0844\n",
            "Early stopping triggered after 8 epochs.\n"
          ]
        },
        {
          "name": "stderr",
          "output_type": "stream",
          "text": [
            "\n"
          ]
        },
        {
          "data": {
            "text/plain": [
              "{'train_loss': [0.9349198043346405,\n",
              "  0.9264001190662384,\n",
              "  0.9376870512962341,\n",
              "  0.9319487810134888,\n",
              "  0.9484288275241852,\n",
              "  0.9337440729141235,\n",
              "  0.9270330131053924,\n",
              "  0.9177263855934144],\n",
              " 'train_mse': [np.float32(0.93822366),\n",
              "  np.float32(0.92273855),\n",
              "  np.float32(0.93273073),\n",
              "  np.float32(0.9332827),\n",
              "  np.float32(0.93900096),\n",
              "  np.float32(0.9296553),\n",
              "  np.float32(0.92562133),\n",
              "  np.float32(0.91816336)],\n",
              " 'train_mae': [np.float32(0.74566257),\n",
              "  np.float32(0.72600573),\n",
              "  np.float32(0.74221206),\n",
              "  np.float32(0.72735536),\n",
              "  np.float32(0.74845725),\n",
              "  np.float32(0.7448431),\n",
              "  np.float32(0.73452795),\n",
              "  np.float32(0.7248488)],\n",
              " 'train_rmse': [np.float32(0.96861947),\n",
              "  np.float32(0.9605928),\n",
              "  np.float32(0.96577984),\n",
              "  np.float32(0.9660656),\n",
              "  np.float32(0.9690206),\n",
              "  np.float32(0.9641864),\n",
              "  np.float32(0.96209216),\n",
              "  np.float32(0.9582084)],\n",
              " 'test_loss': [1.1900544166564941,\n",
              "  1.269875407218933,\n",
              "  1.1081950267155964,\n",
              "  1.2741739749908447,\n",
              "  1.0247689485549927,\n",
              "  1.051170527935028,\n",
              "  1.1974572738011677,\n",
              "  1.0517855087916057],\n",
              " 'test_mse': [np.float32(1.2191017),\n",
              "  np.float32(1.1819222),\n",
              "  np.float32(1.1831093),\n",
              "  np.float32(1.247662),\n",
              "  np.float32(1.0945451),\n",
              "  np.float32(1.1595411),\n",
              "  np.float32(1.2776029),\n",
              "  np.float32(1.175918)],\n",
              " 'test_mae': [np.float32(0.8188534),\n",
              "  np.float32(0.8172298),\n",
              "  np.float32(0.8170483),\n",
              "  np.float32(0.8460921),\n",
              "  np.float32(0.77318984),\n",
              "  np.float32(0.80886626),\n",
              "  np.float32(0.84819645),\n",
              "  np.float32(0.8110447)],\n",
              " 'test_rmse': [np.float32(1.1041293),\n",
              "  np.float32(1.0871625),\n",
              "  np.float32(1.0877082),\n",
              "  np.float32(1.116988),\n",
              "  np.float32(1.0462052),\n",
              "  np.float32(1.0768199),\n",
              "  np.float32(1.130311),\n",
              "  np.float32(1.0843976)]}"
            ]
          },
          "execution_count": 10,
          "metadata": {},
          "output_type": "execute_result"
        }
      ],
      "execution_count": null
    },
    {
      "metadata": {
        "ExecuteTime": {
          "end_time": "2024-11-08T20:43:20.962517Z",
          "start_time": "2024-11-08T20:43:20.939140Z"
        },
        "id": "e493c1fba93cde24"
      },
      "cell_type": "code",
      "source": [
        "test_results = evaluate_model(Residual_model,test_loader,loss_fn,device)"
      ],
      "id": "e493c1fba93cde24",
      "outputs": [],
      "execution_count": null
    },
    {
      "metadata": {
        "id": "76c3c22ab00a7953"
      },
      "cell_type": "markdown",
      "source": [
        "## **Convnext**"
      ],
      "id": "76c3c22ab00a7953"
    },
    {
      "metadata": {
        "ExecuteTime": {
          "end_time": "2024-11-09T02:35:39.636004Z",
          "start_time": "2024-11-09T02:35:39.630667Z"
        },
        "id": "ece3331badc65de6"
      },
      "cell_type": "code",
      "source": [
        "Convnext_Model = ModifiedConvnextModel()\n",
        "optimizer = torch.optim.Adam(Convnext_Model.parameters(), lr=0.001)\n",
        "loss_fn = torch.nn.MSELoss()\n",
        "device = torch.device(\"cuda:0\" if torch.cuda.is_available() else \"cpu\")\n",
        "Model=Convnext_Model.to(device)\n"
      ],
      "id": "ece3331badc65de6",
      "outputs": [],
      "execution_count": null
    },
    {
      "metadata": {
        "ExecuteTime": {
          "end_time": "2024-11-09T02:35:43.703654Z",
          "start_time": "2024-11-09T02:35:42.322966Z"
        },
        "id": "a3fb2a1d10c60f2e",
        "outputId": "271d9701-d4bc-490a-d6be-44b5ab925457"
      },
      "cell_type": "code",
      "source": [
        "train(Convnext_Model,optimizer,20,device,loss_fn,train_loader,val_loader,patience=3)"
      ],
      "id": "a3fb2a1d10c60f2e",
      "outputs": [
        {
          "name": "stderr",
          "output_type": "stream",
          "text": [
            "  5%|▌         | 1/20 [00:00<00:06,  2.76it/s]"
          ]
        },
        {
          "name": "stdout",
          "output_type": "stream",
          "text": [
            "\n",
            "Epoch 1 | Train MSE: 0.5572, Train MAE: 0.5517, Train RMSE: 0.7465 | Test MSE: 0.1872, Test MAE: 0.3344, Test RMSE: 0.4327\n"
          ]
        },
        {
          "name": "stderr",
          "output_type": "stream",
          "text": [
            " 10%|█         | 2/20 [00:00<00:06,  2.88it/s]"
          ]
        },
        {
          "name": "stdout",
          "output_type": "stream",
          "text": [
            "\n",
            "Epoch 2 | Train MSE: 0.5468, Train MAE: 0.5578, Train RMSE: 0.7395 | Test MSE: 0.1908, Test MAE: 0.3324, Test RMSE: 0.4368\n"
          ]
        },
        {
          "name": "stderr",
          "output_type": "stream",
          "text": [
            " 15%|█▌        | 3/20 [00:01<00:05,  2.90it/s]"
          ]
        },
        {
          "name": "stdout",
          "output_type": "stream",
          "text": [
            "\n",
            "Epoch 3 | Train MSE: 0.5395, Train MAE: 0.5411, Train RMSE: 0.7345 | Test MSE: 0.2098, Test MAE: 0.3398, Test RMSE: 0.4580\n"
          ]
        },
        {
          "name": "stderr",
          "output_type": "stream",
          "text": [
            " 15%|█▌        | 3/20 [00:01<00:07,  2.18it/s]"
          ]
        },
        {
          "name": "stdout",
          "output_type": "stream",
          "text": [
            "\n",
            "Epoch 4 | Train MSE: 0.5440, Train MAE: 0.5348, Train RMSE: 0.7376 | Test MSE: 0.1922, Test MAE: 0.3323, Test RMSE: 0.4384\n",
            "Early stopping triggered after 4 epochs.\n"
          ]
        },
        {
          "name": "stderr",
          "output_type": "stream",
          "text": [
            "\n"
          ]
        },
        {
          "data": {
            "text/plain": [
              "{'train_loss': [0.5604639574885368,\n",
              "  0.5448332369327545,\n",
              "  0.537423774600029,\n",
              "  0.5459811180830002],\n",
              " 'train_mse': [np.float32(0.5571916),\n",
              "  np.float32(0.5468425),\n",
              "  np.float32(0.53953505),\n",
              "  np.float32(0.543992)],\n",
              " 'train_mae': [np.float32(0.55174375),\n",
              "  np.float32(0.557812),\n",
              "  np.float32(0.5411469),\n",
              "  np.float32(0.53478104)],\n",
              " 'train_rmse': [np.float32(0.7464527),\n",
              "  np.float32(0.739488),\n",
              "  np.float32(0.7345305),\n",
              "  np.float32(0.7375581)],\n",
              " 'test_loss': [0.16007882232467333,\n",
              "  0.17058504124482474,\n",
              "  0.20007852713267008,\n",
              "  0.20579007267951965],\n",
              " 'test_mse': [np.float32(0.18720722),\n",
              "  np.float32(0.19079141),\n",
              "  np.float32(0.20975077),\n",
              "  np.float32(0.19222404)],\n",
              " 'test_mae': [np.float32(0.33438578),\n",
              "  np.float32(0.33235347),\n",
              "  np.float32(0.33982173),\n",
              "  np.float32(0.3322981)],\n",
              " 'test_rmse': [np.float32(0.4326745),\n",
              "  np.float32(0.43679675),\n",
              "  np.float32(0.45798555),\n",
              "  np.float32(0.43843362)]}"
            ]
          },
          "execution_count": 10,
          "metadata": {},
          "output_type": "execute_result"
        }
      ],
      "execution_count": null
    },
    {
      "metadata": {
        "ExecuteTime": {
          "end_time": "2024-11-09T02:35:45.184781Z",
          "start_time": "2024-11-09T02:35:45.151964Z"
        },
        "id": "4cde15e05c1b146c",
        "outputId": "e2904f29-2c99-4e07-f79a-2c31da2cba8e"
      },
      "cell_type": "code",
      "source": [
        "test_results = evaluate_model(Convnext_Model,test_loader,loss_fn,device)"
      ],
      "id": "4cde15e05c1b146c",
      "outputs": [
        {
          "name": "stdout",
          "output_type": "stream",
          "text": [
            "\n",
            "Evaluation Results: Test Loss (MSE): 0.6693 | Test MSE: 0.6693 | Test MAE: 0.7181 | Test RMSE: 0.8181\n"
          ]
        }
      ],
      "execution_count": null
    },
    {
      "metadata": {
        "id": "7d669b847e357dc0"
      },
      "cell_type": "markdown",
      "source": [
        "# **Target Spo2**"
      ],
      "id": "7d669b847e357dc0"
    },
    {
      "metadata": {
        "ExecuteTime": {
          "end_time": "2024-11-09T02:35:07.432572Z",
          "start_time": "2024-11-09T02:35:07.357286Z"
        },
        "id": "aadd35e7cb571cf0",
        "outputId": "225ec1b1-e1ac-4c85-8bee-67d9df8a66b9"
      },
      "cell_type": "code",
      "source": [
        "train_csv = \"train_data.csv\"\n",
        "val_csv = \"val_data.csv\"\n",
        "test_csv = \"test_data.csv\"\n",
        "root_path = \"/content/MEDVSE\"\n",
        "dwn_factor = 2\n",
        "time_length = 10\n",
        "mode = \"spo2\"  # Choose \"hr\" or \"spo2\" based on mode\n",
        "batch_size = 32\n",
        "\n",
        "train_loader, val_loader, test_loader = data_loader(train_csv, val_csv, test_csv,root_path,dwn_factor,time_length,batch_size=32,mode=\"spo2\")\n"
      ],
      "id": "aadd35e7cb571cf0",
      "outputs": [
        {
          "name": "stdout",
          "output_type": "stream",
          "text": [
            "PPG batch shape: torch.Size([32, 150, 3])\n",
            "Label batch shape: torch.Size([32])\n"
          ]
        }
      ],
      "execution_count": null
    },
    {
      "metadata": {
        "id": "1b36e966b2e64e3c"
      },
      "cell_type": "markdown",
      "source": [
        "## **Base Model**"
      ],
      "id": "1b36e966b2e64e3c"
    },
    {
      "metadata": {
        "ExecuteTime": {
          "end_time": "2024-11-08T20:43:21.947483Z",
          "start_time": "2024-11-08T20:43:21.939235Z"
        },
        "id": "aa91cb7f8e674c0e"
      },
      "cell_type": "code",
      "source": [
        "Base_model = BaseModel()\n",
        "optimizer = torch.optim.Adam(Base_model.parameters(), lr=0.001)\n",
        "loss_fn = torch.nn.MSELoss()\n",
        "device = torch.device(\"cuda:0\" if torch.cuda.is_available() else \"cpu\")\n",
        "Base_model=Base_model.to(device)"
      ],
      "id": "aa91cb7f8e674c0e",
      "outputs": [],
      "execution_count": null
    },
    {
      "metadata": {
        "ExecuteTime": {
          "end_time": "2024-11-08T20:43:22.358647Z",
          "start_time": "2024-11-08T20:43:22.174565Z"
        },
        "id": "57565bf419d4ceb4",
        "outputId": "8cd0509f-4b12-422b-93d7-2b8de61d7d83"
      },
      "cell_type": "code",
      "source": [
        "train(Base_model,optimizer,20,device,loss_fn,train_loader,val_loader,patience=3)"
      ],
      "id": "57565bf419d4ceb4",
      "outputs": [
        {
          "name": "stderr",
          "output_type": "stream",
          "text": [
            " 30%|███       | 6/20 [00:00<00:00, 33.58it/s]"
          ]
        },
        {
          "name": "stdout",
          "output_type": "stream",
          "text": [
            "\n",
            "Epoch 1 | Train MSE: 0.7491, Train MAE: 0.6587, Train RMSE: 0.8655 | Test MSE: 0.2650, Test MAE: 0.3683, Test RMSE: 0.5148\n",
            "\n",
            "Epoch 2 | Train MSE: 0.6459, Train MAE: 0.6196, Train RMSE: 0.8037 | Test MSE: 0.2580, Test MAE: 0.3641, Test RMSE: 0.5079\n",
            "\n",
            "Epoch 3 | Train MSE: 0.5703, Train MAE: 0.5755, Train RMSE: 0.7552 | Test MSE: 0.2242, Test MAE: 0.3436, Test RMSE: 0.4735\n",
            "\n",
            "Epoch 4 | Train MSE: 0.5189, Train MAE: 0.5344, Train RMSE: 0.7203 | Test MSE: 0.1964, Test MAE: 0.3309, Test RMSE: 0.4431\n",
            "\n",
            "Epoch 5 | Train MSE: 0.4570, Train MAE: 0.4996, Train RMSE: 0.6760 | Test MSE: 0.2456, Test MAE: 0.3884, Test RMSE: 0.4956\n",
            "\n",
            "Epoch 6 | Train MSE: 0.4810, Train MAE: 0.5262, Train RMSE: 0.6935 | Test MSE: 0.2311, Test MAE: 0.3693, Test RMSE: 0.4808\n",
            "\n",
            "Epoch 7 | Train MSE: 0.4574, Train MAE: 0.4943, Train RMSE: 0.6763 | Test MSE: 0.4411, Test MAE: 0.5320, Test RMSE: 0.6641\n",
            "Early stopping triggered after 7 epochs.\n"
          ]
        },
        {
          "name": "stderr",
          "output_type": "stream",
          "text": [
            "\n"
          ]
        },
        {
          "data": {
            "text/plain": [
              "{'train_loss': [0.7453103840351105,\n",
              "  0.6420182347297668,\n",
              "  0.5679320305585861,\n",
              "  0.5206698209047318,\n",
              "  0.45552785098552706,\n",
              "  0.4822408065199852,\n",
              "  0.4551997721195221],\n",
              " 'train_mse': [np.float32(0.74913734),\n",
              "  np.float32(0.64590836),\n",
              "  np.float32(0.5703281),\n",
              "  np.float32(0.5188824),\n",
              "  np.float32(0.4570328),\n",
              "  np.float32(0.48099557),\n",
              "  np.float32(0.45737293)],\n",
              " 'train_mae': [np.float32(0.6587113),\n",
              "  np.float32(0.6196113),\n",
              "  np.float32(0.57550645),\n",
              "  np.float32(0.53440887),\n",
              "  np.float32(0.49955565),\n",
              "  np.float32(0.52620995),\n",
              "  np.float32(0.494339)],\n",
              " 'train_rmse': [np.float32(0.8655272),\n",
              "  np.float32(0.80368423),\n",
              "  np.float32(0.7552007),\n",
              "  np.float32(0.72033495),\n",
              "  np.float32(0.676042),\n",
              "  np.float32(0.6935384),\n",
              "  np.float32(0.67629355)],\n",
              " 'test_loss': [0.260766198237737,\n",
              "  0.2519429326057434,\n",
              "  0.27840013802051544,\n",
              "  0.2380218207836151,\n",
              "  0.25099340081214905,\n",
              "  0.24397795895735422,\n",
              "  0.41090791424115497],\n",
              " 'test_mse': [np.float32(0.26500073),\n",
              "  np.float32(0.25795832),\n",
              "  np.float32(0.22423106),\n",
              "  np.float32(0.19635849),\n",
              "  np.float32(0.24560577),\n",
              "  np.float32(0.23112749),\n",
              "  np.float32(0.44106793)],\n",
              " 'test_mae': [np.float32(0.36825922),\n",
              "  np.float32(0.36408812),\n",
              "  np.float32(0.34356993),\n",
              "  np.float32(0.33085355),\n",
              "  np.float32(0.38835824),\n",
              "  np.float32(0.36932668),\n",
              "  np.float32(0.5319637)],\n",
              " 'test_rmse': [np.float32(0.5147822),\n",
              "  np.float32(0.507896),\n",
              "  np.float32(0.4735304),\n",
              "  np.float32(0.44312355),\n",
              "  np.float32(0.49558628),\n",
              "  np.float32(0.4807572),\n",
              "  np.float32(0.66412944)]}"
            ]
          },
          "execution_count": 14,
          "metadata": {},
          "output_type": "execute_result"
        }
      ],
      "execution_count": null
    },
    {
      "metadata": {
        "ExecuteTime": {
          "end_time": "2024-11-08T20:43:22.594781Z",
          "start_time": "2024-11-08T20:43:22.585553Z"
        },
        "id": "1c36923586ebe396"
      },
      "cell_type": "code",
      "source": [
        "test_results = evaluate_model(Base_model,test_loader,loss_fn,device)"
      ],
      "id": "1c36923586ebe396",
      "outputs": [],
      "execution_count": null
    },
    {
      "metadata": {
        "id": "969e0ed3d8ade807"
      },
      "cell_type": "markdown",
      "source": [
        "## **FCN**"
      ],
      "id": "969e0ed3d8ade807"
    },
    {
      "metadata": {
        "ExecuteTime": {
          "end_time": "2024-11-08T20:43:22.848591Z",
          "start_time": "2024-11-08T20:43:22.842155Z"
        },
        "id": "90913a9cfc104b9b"
      },
      "cell_type": "code",
      "source": [
        "FCN_model = FCN()\n",
        "optimizer = torch.optim.Adam(FCN_model.parameters(), lr=0.001)\n",
        "loss_fn = torch.nn.MSELoss()\n",
        "device = torch.device(\"cuda:0\" if torch.cuda.is_available() else \"cpu\")\n",
        "FCN_model=FCN_model.to(device)"
      ],
      "id": "90913a9cfc104b9b",
      "outputs": [],
      "execution_count": null
    },
    {
      "metadata": {
        "ExecuteTime": {
          "end_time": "2024-11-08T20:43:23.316537Z",
          "start_time": "2024-11-08T20:43:23.141988Z"
        },
        "id": "1b14f425cb42fd8e",
        "outputId": "84ac902a-ea38-41ee-ceb5-6afc254c650f"
      },
      "cell_type": "code",
      "source": [
        "train(FCN_model,optimizer,20,device,loss_fn,train_loader,val_loader,patience=3)"
      ],
      "id": "1b14f425cb42fd8e",
      "outputs": [
        {
          "name": "stderr",
          "output_type": "stream",
          "text": [
            " 30%|███       | 6/20 [00:00<00:00, 35.46it/s]"
          ]
        },
        {
          "name": "stdout",
          "output_type": "stream",
          "text": [
            "\n",
            "Epoch 1 | Train MSE: 0.5461, Train MAE: 0.5368, Train RMSE: 0.7390 | Test MSE: 0.2088, Test MAE: 0.3393, Test RMSE: 0.4570\n",
            "\n",
            "Epoch 2 | Train MSE: 0.5403, Train MAE: 0.5391, Train RMSE: 0.7350 | Test MSE: 0.1969, Test MAE: 0.3338, Test RMSE: 0.4437\n",
            "\n",
            "Epoch 3 | Train MSE: 0.5399, Train MAE: 0.5424, Train RMSE: 0.7348 | Test MSE: 0.1969, Test MAE: 0.3338, Test RMSE: 0.4437\n",
            "\n",
            "Epoch 4 | Train MSE: 0.5399, Train MAE: 0.5424, Train RMSE: 0.7348 | Test MSE: 0.1969, Test MAE: 0.3338, Test RMSE: 0.4437\n",
            "\n",
            "Epoch 5 | Train MSE: 0.5399, Train MAE: 0.5424, Train RMSE: 0.7348 | Test MSE: 0.1969, Test MAE: 0.3338, Test RMSE: 0.4437\n",
            "\n",
            "Epoch 6 | Train MSE: 0.5399, Train MAE: 0.5424, Train RMSE: 0.7348 | Test MSE: 0.1969, Test MAE: 0.3338, Test RMSE: 0.4437\n",
            "\n",
            "Epoch 7 | Train MSE: 0.5399, Train MAE: 0.5424, Train RMSE: 0.7348 | Test MSE: 0.1969, Test MAE: 0.3338, Test RMSE: 0.4437\n",
            "Early stopping triggered after 7 epochs.\n"
          ]
        },
        {
          "name": "stderr",
          "output_type": "stream",
          "text": [
            "\n"
          ]
        },
        {
          "data": {
            "text/plain": [
              "{'train_loss': [0.5474640101194381,\n",
              "  0.5370516926050186,\n",
              "  0.5392898738384246,\n",
              "  0.5407205134630203,\n",
              "  0.5429433465003968,\n",
              "  0.5412034809589386,\n",
              "  0.5457655996084213],\n",
              " 'train_mse': [np.float32(0.5460572),\n",
              "  np.float32(0.5402644),\n",
              "  np.float32(0.5399315),\n",
              "  np.float32(0.5399315),\n",
              "  np.float32(0.5399315),\n",
              "  np.float32(0.5399315),\n",
              "  np.float32(0.5399315)],\n",
              " 'train_mae': [np.float32(0.536844),\n",
              "  np.float32(0.5390522),\n",
              "  np.float32(0.54240733),\n",
              "  np.float32(0.54240733),\n",
              "  np.float32(0.54240733),\n",
              "  np.float32(0.54240733),\n",
              "  np.float32(0.54240733)],\n",
              " 'train_rmse': [np.float32(0.73895687),\n",
              "  np.float32(0.73502684),\n",
              "  np.float32(0.7348003),\n",
              "  np.float32(0.7348003),\n",
              "  np.float32(0.7348003),\n",
              "  np.float32(0.7348003),\n",
              "  np.float32(0.7348003)],\n",
              " 'test_loss': [0.2154795527458191,\n",
              "  0.19976061085859934,\n",
              "  0.21158682803312936,\n",
              "  0.18491719663143158,\n",
              "  0.1949275036652883,\n",
              "  0.23195196191469827,\n",
              "  0.19269994894663492],\n",
              " 'test_mse': [np.float32(0.20881581),\n",
              "  np.float32(0.19690627),\n",
              "  np.float32(0.19690627),\n",
              "  np.float32(0.19690625),\n",
              "  np.float32(0.19690627),\n",
              "  np.float32(0.19690625),\n",
              "  np.float32(0.19690625)],\n",
              " 'test_mae': [np.float32(0.33933577),\n",
              "  np.float32(0.33382154),\n",
              "  np.float32(0.33382154),\n",
              "  np.float32(0.33382154),\n",
              "  np.float32(0.33382154),\n",
              "  np.float32(0.33382156),\n",
              "  np.float32(0.33382156)],\n",
              " 'test_rmse': [np.float32(0.4569637),\n",
              "  np.float32(0.44374123),\n",
              "  np.float32(0.44374123),\n",
              "  np.float32(0.4437412),\n",
              "  np.float32(0.44374123),\n",
              "  np.float32(0.4437412),\n",
              "  np.float32(0.4437412)]}"
            ]
          },
          "execution_count": 17,
          "metadata": {},
          "output_type": "execute_result"
        }
      ],
      "execution_count": null
    },
    {
      "metadata": {
        "ExecuteTime": {
          "end_time": "2024-11-08T20:43:23.581403Z",
          "start_time": "2024-11-08T20:43:23.571455Z"
        },
        "id": "42d222a1f3b38974"
      },
      "cell_type": "code",
      "source": [
        "test_results = evaluate_model(FCN_model,test_loader,loss_fn,device)"
      ],
      "id": "42d222a1f3b38974",
      "outputs": [],
      "execution_count": null
    },
    {
      "metadata": {
        "id": "604e87ec852744ce"
      },
      "cell_type": "markdown",
      "source": [
        "## **Residual**"
      ],
      "id": "604e87ec852744ce"
    },
    {
      "metadata": {
        "ExecuteTime": {
          "end_time": "2024-11-08T20:43:24.199245Z",
          "start_time": "2024-11-08T20:43:24.187596Z"
        },
        "id": "702a80c8f179525a"
      },
      "cell_type": "code",
      "source": [
        "Residual_model = Residual()\n",
        "optimizer = torch.optim.Adam(Residual_model.parameters(), lr=0.001)\n",
        "loss_fn = torch.nn.MSELoss()\n",
        "device = torch.device(\"cuda:0\" if torch.cuda.is_available() else \"cpu\")\n",
        "Residual_model=Residual_model.to(device)"
      ],
      "id": "702a80c8f179525a",
      "outputs": [],
      "execution_count": null
    },
    {
      "metadata": {
        "ExecuteTime": {
          "end_time": "2024-11-08T20:43:25.071493Z",
          "start_time": "2024-11-08T20:43:24.783103Z"
        },
        "id": "37a1c9fa6c794691",
        "outputId": "c70269e1-6b43-49c3-a2f7-9c4335bdb0fb"
      },
      "cell_type": "code",
      "source": [
        "train(Residual_model,optimizer,20,device,loss_fn,train_loader,val_loader,patience=3)"
      ],
      "id": "37a1c9fa6c794691",
      "outputs": [
        {
          "name": "stderr",
          "output_type": "stream",
          "text": [
            " 15%|█▌        | 3/20 [00:00<00:00, 25.58it/s]"
          ]
        },
        {
          "name": "stdout",
          "output_type": "stream",
          "text": [
            "\n",
            "Epoch 1 | Train MSE: 0.5494, Train MAE: 0.5499, Train RMSE: 0.7412 | Test MSE: 0.2139, Test MAE: 0.3418, Test RMSE: 0.4624\n",
            "\n",
            "Epoch 2 | Train MSE: 0.5417, Train MAE: 0.5385, Train RMSE: 0.7360 | Test MSE: 0.1923, Test MAE: 0.3310, Test RMSE: 0.4385\n",
            "\n",
            "Epoch 3 | Train MSE: 0.5406, Train MAE: 0.5466, Train RMSE: 0.7353 | Test MSE: 0.1938, Test MAE: 0.3333, Test RMSE: 0.4402\n",
            "\n",
            "Epoch 4 | Train MSE: 0.5344, Train MAE: 0.5482, Train RMSE: 0.7310 | Test MSE: 0.1847, Test MAE: 0.3307, Test RMSE: 0.4297\n",
            "\n",
            "Epoch 5 | Train MSE: 0.5278, Train MAE: 0.5434, Train RMSE: 0.7265 | Test MSE: 0.1971, Test MAE: 0.3362, Test RMSE: 0.4440\n",
            "\n",
            "Epoch 6 | Train MSE: 0.5337, Train MAE: 0.5359, Train RMSE: 0.7306 | Test MSE: 0.1933, Test MAE: 0.3322, Test RMSE: 0.4397\n"
          ]
        },
        {
          "name": "stderr",
          "output_type": "stream",
          "text": [
            " 35%|███▌      | 7/20 [00:00<00:00, 24.90it/s]"
          ]
        },
        {
          "name": "stdout",
          "output_type": "stream",
          "text": [
            "\n",
            "Epoch 7 | Train MSE: 0.5306, Train MAE: 0.5479, Train RMSE: 0.7284 | Test MSE: 0.1869, Test MAE: 0.3461, Test RMSE: 0.4323\n",
            "\n",
            "Epoch 8 | Train MSE: 0.5290, Train MAE: 0.5464, Train RMSE: 0.7273 | Test MSE: 0.1985, Test MAE: 0.3339, Test RMSE: 0.4455\n",
            "Early stopping triggered after 8 epochs.\n"
          ]
        },
        {
          "name": "stderr",
          "output_type": "stream",
          "text": [
            "\n"
          ]
        },
        {
          "data": {
            "text/plain": [
              "{'train_loss': [0.5466023594141006,\n",
              "  0.5388517916202545,\n",
              "  0.5374424159526825,\n",
              "  0.5331287682056427,\n",
              "  0.5255853563547135,\n",
              "  0.5340767562389374,\n",
              "  0.5276687711477279,\n",
              "  0.5274829924106598],\n",
              " 'train_mse': [np.float32(0.54935795),\n",
              "  np.float32(0.54171085),\n",
              "  np.float32(0.5406088),\n",
              "  np.float32(0.5344253),\n",
              "  np.float32(0.5278183),\n",
              "  np.float32(0.5337191),\n",
              "  np.float32(0.5305755),\n",
              "  np.float32(0.5290187)],\n",
              " 'train_mae': [np.float32(0.5499335),\n",
              "  np.float32(0.5384646),\n",
              "  np.float32(0.54658043),\n",
              "  np.float32(0.548204),\n",
              "  np.float32(0.54337823),\n",
              "  np.float32(0.5358583),\n",
              "  np.float32(0.5479471),\n",
              "  np.float32(0.5463728)],\n",
              " 'train_rmse': [np.float32(0.74118686),\n",
              "  np.float32(0.7360101),\n",
              "  np.float32(0.7352611),\n",
              "  np.float32(0.731044),\n",
              "  np.float32(0.72651106),\n",
              "  np.float32(0.73056084),\n",
              "  np.float32(0.72840613),\n",
              "  np.float32(0.7273367)],\n",
              " 'test_loss': [0.2526065955559413,\n",
              "  0.20639986793200174,\n",
              "  0.22887195150057474,\n",
              "  0.2082704504330953,\n",
              "  0.17028694351514181,\n",
              "  0.2034970074892044,\n",
              "  0.19843778510888418,\n",
              "  0.1911205252011617],\n",
              " 'test_mse': [np.float32(0.21385053),\n",
              "  np.float32(0.19226873),\n",
              "  np.float32(0.19376366),\n",
              "  np.float32(0.18466547),\n",
              "  np.float32(0.19713168),\n",
              "  np.float32(0.19334693),\n",
              "  np.float32(0.18688208),\n",
              "  np.float32(0.19847476)],\n",
              " 'test_mae': [np.float32(0.34181562),\n",
              "  np.float32(0.331001),\n",
              "  np.float32(0.33329684),\n",
              "  np.float32(0.33069614),\n",
              "  np.float32(0.3361766),\n",
              "  np.float32(0.33223748),\n",
              "  np.float32(0.34612527),\n",
              "  np.float32(0.33387014)],\n",
              " 'test_rmse': [np.float32(0.46243975),\n",
              "  np.float32(0.43848458),\n",
              "  np.float32(0.44018593),\n",
              "  np.float32(0.4297272),\n",
              "  np.float32(0.44399515),\n",
              "  np.float32(0.43971232),\n",
              "  np.float32(0.4322986),\n",
              "  np.float32(0.44550505)]}"
            ]
          },
          "execution_count": 20,
          "metadata": {},
          "output_type": "execute_result"
        }
      ],
      "execution_count": null
    },
    {
      "metadata": {
        "ExecuteTime": {
          "end_time": "2024-11-08T21:27:53.599757Z",
          "start_time": "2024-11-08T21:27:53.582053Z"
        },
        "id": "96a18e7be8c0528"
      },
      "cell_type": "code",
      "source": [
        "test_results = evaluate_model(Residual_model,test_loader,loss_fn,device)"
      ],
      "id": "96a18e7be8c0528",
      "outputs": [],
      "execution_count": null
    },
    {
      "metadata": {
        "id": "5ed5f89a7c795e0c"
      },
      "cell_type": "markdown",
      "source": [
        "## **Convnext**"
      ],
      "id": "5ed5f89a7c795e0c"
    },
    {
      "metadata": {
        "ExecuteTime": {
          "end_time": "2024-11-09T02:36:22.222728Z",
          "start_time": "2024-11-09T02:36:22.215208Z"
        },
        "id": "6035ab60d92f0f63"
      },
      "cell_type": "code",
      "source": [
        "Convnext_Model = ModifiedConvnextModel()\n",
        "optimizer = torch.optim.Adam(Convnext_Model.parameters(), lr=0.001)\n",
        "loss_fn = torch.nn.MSELoss()\n",
        "device = torch.device(\"cuda:0\" if torch.cuda.is_available() else \"cpu\")\n",
        "Model=Convnext_Model.to(device)"
      ],
      "id": "6035ab60d92f0f63",
      "outputs": [],
      "execution_count": null
    },
    {
      "metadata": {
        "ExecuteTime": {
          "end_time": "2024-11-09T02:36:29.277424Z",
          "start_time": "2024-11-09T02:36:27.909143Z"
        },
        "id": "a2c06178e4e9f5de",
        "outputId": "1050b35b-50d1-413a-ce0a-1a49eb24f8e8"
      },
      "cell_type": "code",
      "source": [
        "train(Convnext_Model,optimizer,20,device,loss_fn,train_loader,val_loader,patience=3)"
      ],
      "id": "a2c06178e4e9f5de",
      "outputs": [
        {
          "name": "stderr",
          "output_type": "stream",
          "text": [
            "  5%|▌         | 1/20 [00:00<00:07,  2.62it/s]"
          ]
        },
        {
          "name": "stdout",
          "output_type": "stream",
          "text": [
            "\n",
            "Epoch 1 | Train MSE: 0.5451, Train MAE: 0.5529, Train RMSE: 0.7383 | Test MSE: 0.2132, Test MAE: 0.3416, Test RMSE: 0.4617\n"
          ]
        },
        {
          "name": "stderr",
          "output_type": "stream",
          "text": [
            " 10%|█         | 2/20 [00:00<00:05,  3.50it/s]"
          ]
        },
        {
          "name": "stdout",
          "output_type": "stream",
          "text": [
            "\n",
            "Epoch 2 | Train MSE: 0.5414, Train MAE: 0.5338, Train RMSE: 0.7358 | Test MSE: 0.1909, Test MAE: 0.3323, Test RMSE: 0.4369\n"
          ]
        },
        {
          "name": "stderr",
          "output_type": "stream",
          "text": [
            " 15%|█▌        | 3/20 [00:00<00:04,  3.75it/s]"
          ]
        },
        {
          "name": "stdout",
          "output_type": "stream",
          "text": [
            "\n",
            "Epoch 3 | Train MSE: 0.5480, Train MAE: 0.5579, Train RMSE: 0.7403 | Test MSE: 0.1875, Test MAE: 0.3334, Test RMSE: 0.4330\n"
          ]
        },
        {
          "name": "stderr",
          "output_type": "stream",
          "text": [
            " 20%|██        | 4/20 [00:01<00:04,  3.65it/s]"
          ]
        },
        {
          "name": "stdout",
          "output_type": "stream",
          "text": [
            "\n",
            "Epoch 4 | Train MSE: 0.5443, Train MAE: 0.5487, Train RMSE: 0.7378 | Test MSE: 0.1997, Test MAE: 0.3347, Test RMSE: 0.4469\n"
          ]
        },
        {
          "name": "stderr",
          "output_type": "stream",
          "text": [
            " 20%|██        | 4/20 [00:01<00:05,  2.93it/s]"
          ]
        },
        {
          "name": "stdout",
          "output_type": "stream",
          "text": [
            "\n",
            "Epoch 5 | Train MSE: 0.5428, Train MAE: 0.5394, Train RMSE: 0.7368 | Test MSE: 0.1995, Test MAE: 0.3346, Test RMSE: 0.4467\n",
            "Early stopping triggered after 5 epochs.\n"
          ]
        },
        {
          "name": "stderr",
          "output_type": "stream",
          "text": [
            "\n"
          ]
        },
        {
          "data": {
            "text/plain": [
              "{'train_loss': [0.5414211004972458,\n",
              "  0.5503947794437408,\n",
              "  0.5505745023488998,\n",
              "  0.5425829231739044,\n",
              "  0.5403542876243591],\n",
              " 'train_mse': [np.float32(0.54506034),\n",
              "  np.float32(0.5414052),\n",
              "  np.float32(0.5480104),\n",
              "  np.float32(0.54431415),\n",
              "  np.float32(0.5428375)],\n",
              " 'train_mae': [np.float32(0.55286855),\n",
              "  np.float32(0.53379196),\n",
              "  np.float32(0.5578839),\n",
              "  np.float32(0.5487182),\n",
              "  np.float32(0.539442)],\n",
              " 'train_rmse': [np.float32(0.738282),\n",
              "  np.float32(0.7358024),\n",
              "  np.float32(0.74027723),\n",
              "  np.float32(0.73777646),\n",
              "  np.float32(0.73677504)],\n",
              " 'test_loss': [0.2392648607492447,\n",
              "  0.17320731530586878,\n",
              "  0.17899984121322632,\n",
              "  0.2049392064412435,\n",
              "  0.23348196844259897],\n",
              " 'test_mse': [np.float32(0.21319093),\n",
              "  np.float32(0.1908545),\n",
              "  np.float32(0.18752244),\n",
              "  np.float32(0.19973224),\n",
              "  np.float32(0.19951373)],\n",
              " 'test_mae': [np.float32(0.3415726),\n",
              "  np.float32(0.33232993),\n",
              "  np.float32(0.33338264),\n",
              "  np.float32(0.3347323),\n",
              "  np.float32(0.33459505)],\n",
              " 'test_rmse': [np.float32(0.46172604),\n",
              "  np.float32(0.43686897),\n",
              "  np.float32(0.43303862),\n",
              "  np.float32(0.44691414),\n",
              "  np.float32(0.4466696)]}"
            ]
          },
          "execution_count": 13,
          "metadata": {},
          "output_type": "execute_result"
        }
      ],
      "execution_count": null
    },
    {
      "metadata": {
        "ExecuteTime": {
          "end_time": "2024-11-09T02:36:34.366919Z",
          "start_time": "2024-11-09T02:36:34.345195Z"
        },
        "id": "a5dd92d589808ba3",
        "outputId": "c584f1ce-8d45-4d6e-d1af-653fb731a589"
      },
      "cell_type": "code",
      "source": [
        "test_results = evaluate_model(Convnext_Model,test_loader,loss_fn,device)"
      ],
      "id": "a5dd92d589808ba3",
      "outputs": [
        {
          "name": "stdout",
          "output_type": "stream",
          "text": [
            "\n",
            "Evaluation Results: Test Loss (MSE): 0.6396 | Test MSE: 0.6396 | Test MAE: 0.7001 | Test RMSE: 0.7997\n"
          ]
        }
      ],
      "execution_count": null
    },
    {
      "metadata": {
        "id": "3fdfb426a904068d"
      },
      "cell_type": "markdown",
      "source": [
        "# **Results**"
      ],
      "id": "3fdfb426a904068d"
    },
    {
      "metadata": {
        "id": "83d8a3872dec140d"
      },
      "cell_type": "markdown",
      "source": [
        "## **Hr results**"
      ],
      "id": "83d8a3872dec140d"
    },
    {
      "metadata": {
        "id": "c25d14be06607939"
      },
      "cell_type": "markdown",
      "source": [
        "$$\n",
        "\\begin{array}{|l|c|c|c|c|c|c|c|c|c|}\n",
        "\\hline\n",
        "\\textbf{Model Name} & \\textbf{Training} & \\textbf{Training} & \\textbf{Training} & \\textbf{Validation} & \\textbf{Validation} & \\textbf{Validation} & \\textbf{Testing} & \\textbf{Testing} & \\textbf{Testing} \\\\\n",
        " & \\textbf{MSE} & \\textbf{MAE} & \\textbf{RMSE} & \\textbf{MSE} & \\textbf{MAE} & \\textbf{RMSE} & \\textbf{MSE} & \\textbf{MAE} & \\textbf{RMSE} \\\\\n",
        "\\hline\n",
        "\\textbf{Base Model} & \\textbf{0.4856} & 0.5452 & \\textbf{0.6968} & 0.5072 & 0.5752 & 0.7122 & 0.8255 & 0.7382 & 0.9086 \\\\\n",
        "\\textbf{FCN Model} & 0.5399 & 0.5424 & 0.7348 & 0.1969 & 0.3338 & 0.4437 & 0.6495 & 0.7062 & 0.8059 \\\\\n",
        "\\textbf{Residual} & 0.9182 & 0.7248 & 0.9582 & 1.1759 & 0.811 & 1.0844 & \\textbf{0.497} & \\textbf{0.5895} & \\textbf{0.705} \\\\\n",
        "\\textbf{Convnext} & 0.544 & \\textbf{0.5348} & 0.7376 & \\textbf{0.1922} & \\textbf{0.3323} & \\textbf{0.4384} & 0.6693 & 0.7181 & 0.8181 \\\\\n",
        "\\hline\n",
        "\\end{array}\n",
        "$$\n"
      ],
      "id": "c25d14be06607939"
    },
    {
      "metadata": {
        "id": "52bf3cbbcf6c0700"
      },
      "cell_type": "markdown",
      "source": [
        "## **Spo2**"
      ],
      "id": "52bf3cbbcf6c0700"
    },
    {
      "metadata": {
        "id": "c64328a6912f554"
      },
      "cell_type": "markdown",
      "source": [
        "$$\n",
        "\\begin{array}{|l|c|c|c|c|c|c|c|c|c|}\n",
        "\\hline\n",
        "\\textbf{Model Name} & \\textbf{MSE} & \\textbf{MAE} & \\textbf{RMSE} & \\textbf{MSE} & \\textbf{MAE} & \\textbf{RMSE} & \\textbf{MSE} & \\textbf{MAE} & \\textbf{RMSE} \\\\\n",
        " & \\textbf{Training} & \\textbf{Training} & \\textbf{Training} & \\textbf{Validation} & \\textbf{Validation} & \\textbf{Validation} & \\textbf{Testing} & \\textbf{Testing} & \\textbf{Testing} \\\\\n",
        "\\hline\n",
        "\\textbf{Base Model} & \\textbf{0.457} & \\textbf{0.4996} & \\textbf{0.676} & 0.2456 & 0.3884 & 0.4956 & 0.8419 & 0.7362 & 0.9175 \\\\\n",
        "\\textbf{FCN Model} & 0.5399 & 0.5424 & 0.7348 & \\textbf{0.1969} & \\textbf{0.3338} & \\textbf{0.4437} & 0.6495 & 0.7062 & 0.8059 \\\\\n",
        "\\textbf{Residual} & 0.529 & 0.5464 & 0.7273 & 0.1985 & 0.3339 & 0.4455 & \\textbf{0.5806} & \\textbf{0.6656} & \\textbf{0.7619} \\\\\n",
        "\\textbf{Convnext} & 0.5428 & 0.5394 & 0.7368 & 0.1995 & 0.3346 & 0.4467 & 0.6396 & 0.7001 & 0.7997 \\\\\n",
        "\\hline\n",
        "\\end{array}\n",
        "$$\n"
      ],
      "id": "c64328a6912f554"
    },
    {
      "metadata": {
        "id": "ebdee035e1e9486b"
      },
      "cell_type": "markdown",
      "source": [
        "- The results indicate that the models performed excellently, with no signs of overfitting, despite the small dataset. This holds true for both HR and SpO2 data.\n",
        "\n",
        "- In the HR table, the Residual model yielded the best performance in terms of MSE, MAE, and RMSE. It can also be seen that similar trends exist in the SpO2 table.\n",
        "\n",
        "- Observing results, the Residual FCN model outperformed all other models in all testing cases, making it the best performing model on the MTHS dataset. This final outcome aligns  with the results obtained from the paper."
      ],
      "id": "ebdee035e1e9486b"
    },
    {
      "metadata": {
        "id": "4fee2808832a956a"
      },
      "cell_type": "markdown",
      "source": [
        "# **Conclusion**\n",
        "\n",
        "- The paper was replicated with modifications that I deemed necessary, as certain approaches and methodologies, such as data splitting and standardization, caused potential data leakage, which was addressed and explained earlier in the analysis.\n",
        "\n",
        "- All models were successfully replicated except for the DCT model due to time constraints. Additionally, it was noticed that the Modified ConvNext model was not mentioned in the accompanied code.\n",
        "\n",
        "- The models were trained solely using MSE loss, but they can be easily retrained by adjusting the loss function in the training process to explore alternative objective functions.\n",
        "\n",
        "- The models were only evaluated on the author's dataset, rather than other datasets mentioned in the paper, such as the BIDMC dataset, due to time constraints. However, despite this limitation, I achieved better results than those reported in the original paper.\n",
        "\n",
        "- While studying the paper and the accompanied code, I noticed differences in the architecture used to design the FCN model. I used the one mentioned in the paper."
      ],
      "id": "4fee2808832a956a"
    },
    {
      "metadata": {
        "id": "1dc74a53d5735062"
      },
      "cell_type": "markdown",
      "source": [
        "# **Recommendataion**\n",
        "\n",
        "- I strongly believe that there are potentially better machine learning models that could outperform these models. These machine learning approaches could be lighter, faster, and still provide competitive performance compared to deep learning models.\n",
        "\n",
        "- The authors did not explore LSTM (Long Short-Term Memory), which is a very popular and effective model for time-series datasets. Incorporating LSTMs could improve performance, especially in tasks involving sequential data.\n",
        "\n",
        "- The dataset can be expanded to improve the results and provide a more robust evaluation of the model. A larger and more diverse dataset would likely help in enhancing the model's generalizability and performance across different scenarios."
      ],
      "id": "1dc74a53d5735062"
    }
  ],
  "metadata": {
    "kernelspec": {
      "display_name": "Python 3",
      "language": "python",
      "name": "python3"
    },
    "language_info": {
      "codemirror_mode": {
        "name": "ipython",
        "version": 2
      },
      "file_extension": ".py",
      "mimetype": "text/x-python",
      "name": "python",
      "nbconvert_exporter": "python",
      "pygments_lexer": "ipython2",
      "version": "2.7.6"
    },
    "colab": {
      "provenance": [],
      "collapsed_sections": [
        "5144806eb5fb167",
        "1b7fb5fe03e59fdf"
      ],
      "include_colab_link": true
    }
  },
  "nbformat": 4,
  "nbformat_minor": 5
}